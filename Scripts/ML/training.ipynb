{
 "cells": [
  {
   "cell_type": "code",
   "execution_count": 5,
   "id": "09f46eb8",
   "metadata": {},
   "outputs": [],
   "source": [
    "import os\n",
    "import numpy as np \n",
    "import pandas as pd \n",
    "\n",
    "\n",
    "from sklearn import model_selection, preprocessing \n",
    "from sklearn.metrics import accuracy_score, roc_auc_score\n",
    "from imblearn.over_sampling import RandomOverSampler\n",
    "\n",
    "import xgboost as xgb\n",
    "from xgboost import XGBClassifier\n",
    "\n",
    "from hyperopt import fmin, tpe, hp, STATUS_OK, Trials\n",
    "from typing import Any, Dict, Union\n",
    "from yellowbrick import model_selection as ms\n",
    "from yellowbrick.model_selection import validation_curve\n",
    "\n",
    "import mlflow\n",
    "import urllib\n",
    "import zipfile"
   ]
  },
  {
   "cell_type": "code",
   "execution_count": 13,
   "id": "cb9dd27e",
   "metadata": {},
   "outputs": [],
   "source": [
    "results_path = '/home/melissa/PROJECT_DIRECTORIES/EEGFeatureExtraction/Results/'\n",
    "feature_df = pd.read_csv(f'{results_path}acceptedfeatures.csv')\n",
    "features = feature_df['AcceptedFeatures'].to_list()\n",
    "X_train = pd.read_csv(f'{results_path}X_train.csv')\n",
    "X_test = pd.read_csv(f'{results_path}X_test.csv')\n",
    "y_train = pd.read_csv(f'{results_path}y_train.csv')\n",
    "y_test = pd.read_csv(f'{results_path}y_test.csv')"
   ]
  },
  {
   "cell_type": "code",
   "execution_count": 14,
   "id": "ea21006a",
   "metadata": {},
   "outputs": [],
   "source": [
    "ex_id = mlflow.create_experiment(name = 'ex3', artifact_location = 'ex2path')\n",
    "mlflow.set_experiment(experiment_name = 'ex3')\n",
    "with mlflow.start_run():\n",
    "    params = {'random_state': 42}\n",
    "    rounds = [{'max_depth': hp.quniform('max_depth', 1, 12, 1),\n",
    "              'min_child_weight': hp.loguniform('min_child_weight', -2, 3)},\n",
    "             {'subsample': hp.uniform('subsample', 0.5, 1),\n",
    "             'colsample_bytree': hp.uniform('colsample_bytree', 0.5, 1)},\n",
    "             {'gamma': hp.loguniform('gamma', -10, 10)},\n",
    "             {'learning_rate': hp.loguniform('learning_rate', -7, 0)}\n",
    "             ]"
   ]
  },
  {
   "cell_type": "markdown",
   "id": "d15c7e19",
   "metadata": {},
   "source": [
    "### Add grouped k fold validation "
   ]
  },
  {
   "cell_type": "code",
   "execution_count": null,
   "id": "03bd152c",
   "metadata": {},
   "outputs": [],
   "source": [
    "for round in rounds:\n",
    "    params = {**params, **round}\n",
    "    trials = Trials()\n",
    "    best = fmin(fn = lambda space: xhelp.hyperparameter_tuning(\n",
    "    space, X_train, y_train, X_test, y_test),\n",
    "               space = params,\n",
    "               algo = tpe.suggest,\n",
    "               max_evals = 10,\n",
    "               trials = trials,\n",
    "               timeout = 60*5)\n",
    "    params = {**params, **best}\n",
    "    for param, val in params.items():\n",
    "        mlflow.log_param(param, val)\n",
    "    params['max_depth'] = int(params['max_depth'])\n",
    "    xg = xgb.XGBClassifier(eval_metric = 'logloss', early_stopping_rounds = 50, **params)\n",
    "    #xg.fit(X_train, y_train,\n",
    "    #      X_test, y_test)"
   ]
  }
 ],
 "metadata": {
  "kernelspec": {
   "display_name": "Python (new2024)",
   "language": "python",
   "name": "env2023"
  },
  "language_info": {
   "codemirror_mode": {
    "name": "ipython",
    "version": 3
   },
   "file_extension": ".py",
   "mimetype": "text/x-python",
   "name": "python",
   "nbconvert_exporter": "python",
   "pygments_lexer": "ipython3",
   "version": "3.8.19"
  }
 },
 "nbformat": 4,
 "nbformat_minor": 5
}
