{
 "cells": [
  {
   "cell_type": "code",
   "execution_count": 53,
   "id": "09f46eb8",
   "metadata": {},
   "outputs": [],
   "source": [
    "import os\n",
    "import numpy as np \n",
    "import pandas as pd \n",
    "\n",
    "from sklearn import model_selection, preprocessing \n",
    "from sklearn.metrics import accuracy_score, precision_score, recall_score, f1_score, roc_auc_score\n",
    "from sklearn.model_selection import GroupShuffleSplit,  StratifiedGroupKFold, train_test_split, cross_val_score\n",
    "from imblearn.over_sampling import RandomOverSampler\n",
    "from sklearn.utils import resample\n",
    "#from iterstrat.ml_stratifiers import StratifiedGroupKFold\n",
    "\n",
    "import xgboost as xgb\n",
    "from xgboost import XGBClassifier\n",
    "\n",
    "from hyperopt import fmin, tpe, hp, STATUS_OK, Trials\n",
    "from typing import Any, Dict, Union\n",
    "from yellowbrick import model_selection as ms\n",
    "from yellowbrick.model_selection import validation_curve\n",
    "\n",
    "import mlflow\n",
    "import mlflow.xgboost\n",
    "import urllib\n",
    "import zipfile"
   ]
  },
  {
   "cell_type": "markdown",
   "id": "c2f7661a",
   "metadata": {},
   "source": [
    "### Load data "
   ]
  },
  {
   "cell_type": "code",
   "execution_count": 27,
   "id": "e0932897",
   "metadata": {},
   "outputs": [],
   "source": [
    "os.chdir('/home/melissa/PROJECT_DIRECTORIES/EEGFeatureExtraction/Scripts/Preprocessing/')\n",
    "%run constants.py\n",
    "\n",
    "all_features = pd.read_csv('/home/melissa/PROJECT_DIRECTORIES/EEGFeatureExtraction/Results/all_features.csv', index_col = 0)\n",
    "all_features['Genotype'] = np.where(all_features['Animal_ID'].isin(WT_ls), 0, \n",
    "                                    np.where(all_features['Animal_ID'].isin(GAP_ls), 1, -1))\n",
    "columns = ['Genotype'] + [col for col in all_features.columns if col != 'Genotype']\n",
    "all_features = all_features[columns]\n",
    "X = all_features.iloc[:, 1:].drop(['Animal_ID'], axis = 1)\n",
    "y = all_features.iloc[:, 0]\n",
    "animal_ids = all_features['Animal_ID']\n",
    "# Initial train-test split by group\n",
    "gss = GroupShuffleSplit(n_splits=1, test_size=0.2, random_state=42)\n",
    "train_idx, test_idx = next(gss.split(X, y, groups=animal_ids))\n",
    "\n",
    "X_train, X_test = X.iloc[train_idx], X.iloc[test_idx]\n",
    "y_train, y_test = y.iloc[train_idx], y.iloc[test_idx]\n",
    "train_ids = np.unique(animal_ids.iloc[train_idx])\n",
    "test_ids = np.unique(animal_ids.iloc[test_idx])"
   ]
  },
  {
   "cell_type": "markdown",
   "id": "cac6f049",
   "metadata": {},
   "source": [
    "## Load selected features "
   ]
  },
  {
   "cell_type": "code",
   "execution_count": 31,
   "id": "cb9dd27e",
   "metadata": {},
   "outputs": [],
   "source": [
    "results_path = '/home/melissa/PROJECT_DIRECTORIES/EEGFeatureExtraction/Results/'\n",
    "feature_df = pd.read_csv(f'{results_path}acceptedfeatures.csv')\n",
    "features = feature_df['AcceptedFeatures'].to_list()"
   ]
  },
  {
   "cell_type": "code",
   "execution_count": 60,
   "id": "6306bc9e",
   "metadata": {},
   "outputs": [],
   "source": [
    "X_train = X_train.loc[:, features]\n",
    "X_test = X_test.loc[:, features]\n",
    "train_groups = animal_ids.iloc[train_idx] "
   ]
  },
  {
   "cell_type": "code",
   "execution_count": 70,
   "id": "2e1a4af7",
   "metadata": {},
   "outputs": [],
   "source": [
    "def hyperparameter_tuning(space: Dict[str, Union[float, int]],\n",
    "                          X: pd.DataFrame, y: pd.Series, \n",
    "                          groups: pd.Series, \n",
    "                          early_stopping_rounds: int = 50, \n",
    "                          metric: callable = accuracy_score) -> Dict[str, Any]:\n",
    "    \n",
    "    int_vals = ['max_depth','n_estimators']\n",
    "    \n",
    "    space = {k: (int(val) if k in int_vals else val)\n",
    "            for k, val in space.items()}\n",
    "    \n",
    "    model = xgb.XGBClassifier(**space, eval_metric='logloss', early_stopping_rounds=early_stopping_rounds)\n",
    "    sgkf = StratifiedGroupKFold(n_splits=5)\n",
    "    \n",
    "    cross_val_scores = []\n",
    "    for train_idx, val_idx in sgkf.split(X, y, groups):\n",
    "        X_train_cv, X_val_cv = X.iloc[train_idx], X.iloc[val_idx]\n",
    "        y_train_cv, y_val_cv = y.iloc[train_idx], y.iloc[val_idx]\n",
    "        \n",
    "        # Check if both classes are present in the validation set\n",
    "        if len(np.unique(y_val_cv)) < 2:\n",
    "            continue\n",
    "        \n",
    "        model.fit(X_train_cv, y_train_cv, eval_set=[(X_val_cv, y_val_cv)], verbose=False)\n",
    "        preds = model.predict(X_val_cv)\n",
    "        score = roc_auc_score(y_val_cv, preds)\n",
    "        cross_val_scores.append(score)\n",
    "    \n",
    "    if not cross_val_scores:\n",
    "        # If no valid cross-validation scores, return a high loss\n",
    "        return {'loss': 1.0, 'status': STATUS_OK, 'model': model}\n",
    "    \n",
    "    mean_score = np.mean(cross_val_scores)\n",
    "    \n",
    "    return {'loss': -mean_score, 'status': STATUS_OK, 'model': model}"
   ]
  },
  {
   "cell_type": "code",
   "execution_count": 71,
   "id": "64556536",
   "metadata": {},
   "outputs": [
    {
     "data": {
      "text/plain": [
       "<Experiment: artifact_location='file:///home/melissa/PROJECT_DIRECTORIES/EEGFeatureExtraction/Scripts/Preprocessing/mlruns/753569834781238875', creation_time=1719226914833, experiment_id='753569834781238875', last_update_time=1719226914833, lifecycle_stage='active', name='ex1', tags={}>"
      ]
     },
     "execution_count": 71,
     "metadata": {},
     "output_type": "execute_result"
    }
   ],
   "source": [
    "# Create or set the experiment\n",
    "experiment_name = 'ex1'\n",
    "experiment = mlflow.get_experiment_by_name(experiment_name)\n",
    "if experiment is None:\n",
    "    mlflow.create_experiment(name=experiment_name)\n",
    "mlflow.set_experiment(experiment_name=experiment_name)"
   ]
  },
  {
   "cell_type": "code",
   "execution_count": null,
   "id": "6ec75be9",
   "metadata": {},
   "outputs": [
    {
     "name": "stdout",
     "output_type": "stream",
     "text": [
      " 58%|████▋   | 29/50 [05:02<03:39, 10.43s/trial, best loss: -0.7512093381366937]\n",
      " 32%|██▌     | 16/50 [05:05<10:49, 19.10s/trial, best loss: -0.7611073497904333]\n",
      " 32%|██▌     | 16/50 [05:01<10:41, 18.87s/trial, best loss: -0.7941846297556318]\n",
      " 94%|███████▌| 47/50 [05:01<00:19,  6.43s/trial, best loss: -0.7796012935427409]\n",
      "  8%|▋        | 4/50 [00:45<07:57, 10.37s/trial, best loss: -0.7736417492010298]"
     ]
    }
   ],
   "source": [
    "with mlflow.start_run():\n",
    "    params = {'random_state': 42}\n",
    "    \n",
    "    rounds = [{\n",
    "    'max_depth': hp.quniform('max_depth', 1, 15, 1),\n",
    "    'min_child_weight': hp.loguniform('min_child_weight', -2, 3),\n",
    "    'subsample': hp.uniform('subsample', 0.5, 1),\n",
    "    'colsample_bytree': hp.uniform('colsample_bytree', 0.5, 1),\n",
    "    'reg_alpha': hp.loguniform('reg_alpha', -3, 2),\n",
    "    'reg_lambda': hp.loguniform('reg_lambda', -3, 2),\n",
    "    'gamma': hp.loguniform('gamma', -10, 1),\n",
    "    'learning_rate': hp.loguniform('learning_rate', -7, 0),\n",
    "    'n_estimators': hp.quniform('n_estimators', 50, 300, 10),\n",
    "    'random_state': 42}]\n",
    "\n",
    "    # Perform bootstrapping on animal IDs\n",
    "    bootstraps = 5  # Number of bootstrap samples\n",
    "    for i in range(bootstraps):\n",
    "        bootstrapped_ids = resample(train_groups.unique(), replace=True)\n",
    "        bootstrapped_idx = train_groups.isin(bootstrapped_ids)\n",
    "        \n",
    "        X_train_bootstrap = X_train[bootstrapped_idx]\n",
    "        y_train_bootstrap = y_train[bootstrapped_idx]\n",
    "        train_groups_bootstrap = train_groups[bootstrapped_idx]\n",
    "        \n",
    "        for round_params in rounds:\n",
    "            params = {**params, **round_params}\n",
    "            trials = Trials()\n",
    "            with mlflow.start_run(nested=True):\n",
    "                best = fmin(fn=lambda space: hyperparameter_tuning(space, X_train_bootstrap, y_train_bootstrap, train_groups_bootstrap),\n",
    "                            space=params,\n",
    "                            algo=tpe.suggest,\n",
    "                            max_evals=50,\n",
    "                            trials=trials,\n",
    "                            timeout=60*5)\n",
    "                params = {**params, **best}\n",
    "                for param, val in params.items():\n",
    "                    mlflow.log_param(param, val)\n",
    "                params['max_depth'] = int(params['max_depth'])\n",
    "    \n",
    "    xg = xgb.XGBClassifier(eval_metric='logloss', early_stopping_rounds=50, **params)\n",
    "    xg.fit(X_train, y_train, eval_set=[(X_train, y_train), (X_test, y_test)])\n",
    "    \n",
    "    for metric in [accuracy_score, precision_score, recall_score, f1_score]:\n",
    "        mlflow.log_metric(metric.__name__, metric(y_test, xg.predict(X_test)))\n",
    "    \n",
    "    model_info = mlflow.xgboost.log_model(xg, artifact_path='model')"
   ]
  },
  {
   "cell_type": "code",
   "execution_count": null,
   "id": "76c67df3",
   "metadata": {},
   "outputs": [],
   "source": [
    "#model variables point to a directory that stores information about the model \n",
    "print(experiment_name)\n",
    "model_info.run_id"
   ]
  },
  {
   "cell_type": "code",
   "execution_count": null,
   "id": "4ee55c8e",
   "metadata": {},
   "outputs": [],
   "source": []
  }
 ],
 "metadata": {
  "kernelspec": {
   "display_name": "Python (new2024)",
   "language": "python",
   "name": "env2023"
  },
  "language_info": {
   "codemirror_mode": {
    "name": "ipython",
    "version": 3
   },
   "file_extension": ".py",
   "mimetype": "text/x-python",
   "name": "python",
   "nbconvert_exporter": "python",
   "pygments_lexer": "ipython3",
   "version": "3.8.19"
  }
 },
 "nbformat": 4,
 "nbformat_minor": 5
}
