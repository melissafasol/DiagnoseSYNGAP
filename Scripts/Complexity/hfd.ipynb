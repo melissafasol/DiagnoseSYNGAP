{
 "cells": [
  {
   "cell_type": "code",
   "execution_count": 13,
   "id": "8610c769",
   "metadata": {},
   "outputs": [],
   "source": [
    "import os \n",
    "import sys\n",
    "import pandas as pd\n",
    "import numpy as np\n",
    "import mne"
   ]
  },
  {
   "cell_type": "code",
   "execution_count": 14,
   "id": "45cb8aae",
   "metadata": {},
   "outputs": [],
   "source": [
    "os.chdir('/home/melissa/PROJECT_DIRECTORIES/EEGFeatureExtraction/Scripts/Complexity/')\n",
    "%run complexity_class.py\n",
    "\n",
    "os.chdir('/home/melissa/PROJECT_DIRECTORIES/EEGFeatureExtraction/Scripts/Preprocessing/')\n",
    "%run constants.py\n",
    "%run filter.py\n",
    "%run load_files.py\n",
    "\n",
    "directory_path = '/home/melissa/PREPROCESSING/SYNGAP1/numpyformat_baseline/'\n",
    "complexity_measure = 'hfd'\n",
    "results_path = '/home/melissa/PROJECT_DIRECTORIES/EEGFeatureExtraction/Results/Complexity/'\n",
    "channel_indices = [0, 1, 2, 3, 4, 5, 6, 7, 8, 9, 10, 11, 12, 13]\n",
    "channel_labels = [0, 2, 3, 4, 5, 6, 7, 8, 9, 10, 11, 12, 13, 15]"
   ]
  },
  {
   "cell_type": "code",
   "execution_count": 11,
   "id": "2076e9d9",
   "metadata": {},
   "outputs": [
    {
     "name": "stdout",
     "output_type": "stream",
     "text": [
      "loading S7088\n",
      "S7088\n",
      "loading S7092\n",
      "S7092\n",
      "loading S7086\n",
      "loading S7063\n",
      "loading S7064\n",
      "loading S7069\n",
      "loading S7070\n",
      "loading S7072\n",
      "loading S7086\n",
      "loading S7091\n",
      "loading S7101\n",
      "S7101\n",
      "loading S7094\n",
      "S7094\n",
      "loading S7096\n",
      "loading S7098\n",
      "S7098\n",
      "loading S7068\n",
      "S7068\n",
      "loading S7074\n",
      "S7074\n",
      "loading S7075\n",
      "S7075\n",
      "loading S7071\n",
      "S7071\n",
      "loading S7076\n",
      "S7076\n"
     ]
    }
   ],
   "source": [
    "for animal in analysis_ls:\n",
    "    print(f'loading {animal}')\n",
    "    animal = str(animal)\n",
    "    load_files = LoadFiles(directory_path, animal)\n",
    "    if animal in SYNGAP_2_ls:\n",
    "        data_1, data_2, brain_state_1, brain_state_2 = load_files.load_two_analysis_files(start_times_dict = SYNGAP_baseline_start, end_times_dict = SYNGAP_baseline_end)\n",
    "        #only select eeg channels and filter with bandpass butterworth filter before selecting indices\n",
    "        noise_filter_1 = NoiseFilter(data_1, brain_state_file = brain_state_1, channelvariables = channel_variables,ch_type = 'eeg')    \n",
    "        noise_filter_2 = NoiseFilter(data_2, brain_state_file = brain_state_2, channelvariables = channel_variables,ch_type = 'eeg')    \n",
    "        bandpass_filtered_data_1 = noise_filter_1.filter_data_type()\n",
    "        bandpass_filtered_data_2 = noise_filter_2.filter_data_type()\n",
    "        bandpass_filtered_data = np.concatenate((bandpass_filtered_data_1, bandpass_filtered_data_2), axis=1)\n",
    "        complex_calculator = ComplexClass(complexity_measure, channel_indices)\n",
    "        complexity_values = complex_calculator.process_recordings(bandpass_filtered_data, concatenated=True)\n",
    "        complexity_df = complex_calculator.transform_to_dataframe(complexity_values, channel_labels)\n",
    "        complexity_df.to_csv(os.path.join(results_path, f'{animal}_{complexity_measure}.csv'))\n",
    "    \n",
    "    elif animal in SYNGAP_1_ls:\n",
    "        print(animal)\n",
    "        data_1, brain_state_1 = load_files.load_one_analysis_file(start_times_dict = SYNGAP_baseline_start, end_times_dict = SYNGAP_baseline_end)\n",
    "        #only select eeg channels and filter with bandpass butterworth filter before selecting indices\n",
    "        noise_filter_1 = NoiseFilter(data_1, brain_state_file = brain_state_1, channelvariables = channel_variables,ch_type = 'eeg')    \n",
    "        bandpass_filtered_data_1 = noise_filter_1.filter_data_type()\n",
    "        complex_calculator = ComplexClass(complexity_measure, channel_indices)\n",
    "        complexity_values = complex_calculator.process_recordings(bandpass_filtered_data_1, concatenated=False)\n",
    "        complexity_df = complex_calculator.transform_to_dataframe(complexity_values, channel_labels)\n",
    "        complexity_df.to_csv(os.path.join(results_path, f'{animal}_{complexity_measure}.csv'))"
   ]
  }
 ],
 "metadata": {
  "kernelspec": {
   "display_name": "Python (new2024)",
   "language": "python",
   "name": "env2023"
  },
  "language_info": {
   "codemirror_mode": {
    "name": "ipython",
    "version": 3
   },
   "file_extension": ".py",
   "mimetype": "text/x-python",
   "name": "python",
   "nbconvert_exporter": "python",
   "pygments_lexer": "ipython3",
   "version": "3.8.19"
  }
 },
 "nbformat": 4,
 "nbformat_minor": 5
}
