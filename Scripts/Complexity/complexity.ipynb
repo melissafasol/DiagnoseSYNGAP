{
 "cells": [
  {
   "cell_type": "code",
   "execution_count": 9,
   "id": "8610c769",
   "metadata": {},
   "outputs": [],
   "source": [
    "import os \n",
    "import sys\n",
    "import pandas as pd\n",
    "import numpy as np\n",
    "import mne"
   ]
  },
  {
   "cell_type": "code",
   "execution_count": 10,
   "id": "45cb8aae",
   "metadata": {},
   "outputs": [],
   "source": [
    "os.chdir('/home/melissa/PROJECT_DIRECTORIES/EEGFeatureExtraction/Scripts/Complexity/')\n",
    "%run complexity_class.py\n",
    "\n",
    "os.chdir('/home/melissa/PROJECT_DIRECTORIES/EEGFeatureExtraction/Scripts/Preprocessing/')\n",
    "%run constants.py\n",
    "%run filter.py\n",
    "%run load_files.py\n",
    "\n",
    "directory_path = '/home/melissa/PREPROCESSING/SYNGAP1/numpyformat_baseline/'\n",
    "complexity_measure = 'hfd'\n",
    "results_path = '/home/melissa/PROJECT_DIRECTORIES/EEGFeatureExtraction/Results/Complexity/'\n",
    "channel_indices = [0, 1, 2, 3, 4, 5, 6, 7, 8, 9, 10, 11, 12, 13]\n",
    "channel_labels = [0, 2, 3, 4, 5, 6, 7, 8, 9, 10, 11, 12, 13, 15]"
   ]
  },
  {
   "cell_type": "code",
   "execution_count": 11,
   "id": "2076e9d9",
   "metadata": {},
   "outputs": [
    {
     "name": "stdout",
     "output_type": "stream",
     "text": [
      "loading S7088\n",
      "S7088\n",
      "loading S7092\n",
      "S7092\n",
      "loading S7086\n",
      "loading S7063\n",
      "loading S7064\n",
      "loading S7069\n",
      "loading S7070\n",
      "loading S7072\n",
      "loading S7086\n",
      "loading S7091\n",
      "loading S7101\n",
      "S7101\n",
      "loading S7094\n",
      "S7094\n",
      "loading S7096\n",
      "loading S7098\n",
      "S7098\n",
      "loading S7068\n",
      "S7068\n",
      "loading S7074\n",
      "S7074\n",
      "loading S7075\n",
      "S7075\n",
      "loading S7071\n",
      "S7071\n",
      "loading S7076\n",
      "S7076\n"
     ]
    }
   ],
   "source": [
    "for animal in analysis_ls:\n",
    "    print(f'loading {animal}')\n",
    "    animal = str(animal)\n",
    "    load_files = LoadFiles(directory_path, animal)\n",
    "    if animal in SYNGAP_2_ls:\n",
    "        data_1, data_2, brain_state_1, brain_state_2 = load_files.load_two_analysis_files(start_times_dict = SYNGAP_baseline_start, end_times_dict = SYNGAP_baseline_end)\n",
    "        #only select eeg channels and filter with bandpass butterworth filter before selecting indices\n",
    "        noise_filter_1 = NoiseFilter(data_1, brain_state_file = brain_state_1, channelvariables = channel_variables,ch_type = 'eeg')    \n",
    "        noise_filter_2 = NoiseFilter(data_2, brain_state_file = brain_state_2, channelvariables = channel_variables,ch_type = 'eeg')    \n",
    "        bandpass_filtered_data_1 = noise_filter_1.filter_data_type()\n",
    "        bandpass_filtered_data_2 = noise_filter_2.filter_data_type()\n",
    "        bandpass_filtered_data = np.concatenate((bandpass_filtered_data_1, bandpass_filtered_data_2), axis=1)\n",
    "        complex_calculator = ComplexClass(complexity_measure, channel_indices)\n",
    "        complexity_values = complex_calculator.process_recordings(bandpass_filtered_data, concatenated=True)\n",
    "        complexity_df = complex_calculator.transform_to_dataframe(complexity_values, channel_labels)\n",
    "        complexity_df.to_csv(os.path.join(results_path, f'{animal}_{complexity_measure}.csv'))\n",
    "    \n",
    "    elif animal in SYNGAP_1_ls:\n",
    "        print(animal)\n",
    "        data_1, brain_state_1 = load_files.load_one_analysis_file(start_times_dict = SYNGAP_baseline_start, end_times_dict = SYNGAP_baseline_end)\n",
    "        #only select eeg channels and filter with bandpass butterworth filter before selecting indices\n",
    "        noise_filter_1 = NoiseFilter(data_1, brain_state_file = brain_state_1, channelvariables = channel_variables,ch_type = 'eeg')    \n",
    "        bandpass_filtered_data_1 = noise_filter_1.filter_data_type()\n",
    "        complex_calculator = ComplexClass(complexity_measure, channel_indices)\n",
    "        complexity_values = complex_calculator.process_recordings(bandpass_filtered_data_1, concatenated=False)\n",
    "        complexity_df = complex_calculator.transform_to_dataframe(complexity_values, channel_labels)\n",
    "        complexity_df.to_csv(os.path.join(results_path, f'{animal}_{complexity_measure}.csv'))"
   ]
  },
  {
   "cell_type": "code",
   "execution_count": 12,
   "id": "0be83c80",
   "metadata": {},
   "outputs": [
    {
     "name": "stdout",
     "output_type": "stream",
     "text": [
      "loading S7088\n",
      "S7088\n"
     ]
    },
    {
     "name": "stderr",
     "output_type": "stream",
     "text": [
      "/home/melissa/miniconda3/envs/env2023/lib/python3.8/site-packages/numpy/core/fromnumeric.py:3464: RuntimeWarning: Mean of empty slice.\n",
      "  return _methods._mean(a, axis=axis, dtype=dtype,\n",
      "/home/melissa/miniconda3/envs/env2023/lib/python3.8/site-packages/numpy/core/_methods.py:192: RuntimeWarning: invalid value encountered in scalar divide\n",
      "  ret = ret.dtype.type(ret / rcount)\n"
     ]
    },
    {
     "ename": "KeyboardInterrupt",
     "evalue": "",
     "output_type": "error",
     "traceback": [
      "\u001b[0;31m---------------------------------------------------------------------------\u001b[0m",
      "\u001b[0;31mKeyboardInterrupt\u001b[0m                         Traceback (most recent call last)",
      "Cell \u001b[0;32mIn[12], line 26\u001b[0m\n\u001b[1;32m     24\u001b[0m bandpass_filtered_data_1 \u001b[38;5;241m=\u001b[39m noise_filter_1\u001b[38;5;241m.\u001b[39mfilter_data_type()\n\u001b[1;32m     25\u001b[0m complex_calculator \u001b[38;5;241m=\u001b[39m ComplexClass(complexity_measure, channel_indices)\n\u001b[0;32m---> 26\u001b[0m complexity_values \u001b[38;5;241m=\u001b[39m \u001b[43mcomplex_calculator\u001b[49m\u001b[38;5;241;43m.\u001b[39;49m\u001b[43mprocess_recordings\u001b[49m\u001b[43m(\u001b[49m\u001b[43mbandpass_filtered_data_1\u001b[49m\u001b[43m,\u001b[49m\u001b[43m \u001b[49m\u001b[43mconcatenated\u001b[49m\u001b[38;5;241;43m=\u001b[39;49m\u001b[38;5;28;43;01mFalse\u001b[39;49;00m\u001b[43m)\u001b[49m\n\u001b[1;32m     27\u001b[0m complexity_df \u001b[38;5;241m=\u001b[39m complex_calculator\u001b[38;5;241m.\u001b[39mtransform_to_dataframe(complexity_values, channel_labels)\n\u001b[1;32m     28\u001b[0m complexity_df\u001b[38;5;241m.\u001b[39mto_csv(os\u001b[38;5;241m.\u001b[39mpath\u001b[38;5;241m.\u001b[39mjoin(results_path, \u001b[38;5;124mf\u001b[39m\u001b[38;5;124m'\u001b[39m\u001b[38;5;132;01m{\u001b[39;00manimal\u001b[38;5;132;01m}\u001b[39;00m\u001b[38;5;124m_\u001b[39m\u001b[38;5;132;01m{\u001b[39;00mcomplexity_measure\u001b[38;5;132;01m}\u001b[39;00m\u001b[38;5;124m.csv\u001b[39m\u001b[38;5;124m'\u001b[39m))\n",
      "File \u001b[0;32m~/PROJECT_DIRECTORIES/EEGFeatureExtraction/Scripts/Complexity/complexity_class.py:19\u001b[0m, in \u001b[0;36mComplexClass.process_recordings\u001b[0;34m(self, bandpass_filtered_data, concatenated)\u001b[0m\n\u001b[1;32m     17\u001b[0m filter_data \u001b[38;5;241m=\u001b[39m np\u001b[38;5;241m.\u001b[39msplit(bandpass_filtered_data[idx], split_size, axis\u001b[38;5;241m=\u001b[39m\u001b[38;5;241m0\u001b[39m)\n\u001b[1;32m     18\u001b[0m \u001b[38;5;28;01mif\u001b[39;00m \u001b[38;5;28mself\u001b[39m\u001b[38;5;241m.\u001b[39mcomplexity_calculation \u001b[38;5;241m==\u001b[39m \u001b[38;5;124m'\u001b[39m\u001b[38;5;124mhurst\u001b[39m\u001b[38;5;124m'\u001b[39m:\n\u001b[0;32m---> 19\u001b[0m     complexity_values\u001b[38;5;241m.\u001b[39mappend(\u001b[38;5;28;43mself\u001b[39;49m\u001b[38;5;241;43m.\u001b[39;49m\u001b[43mcalculate_hurst_exp\u001b[49m\u001b[43m(\u001b[49m\u001b[43mfilter_data\u001b[49m\u001b[43m)\u001b[49m)\n\u001b[1;32m     20\u001b[0m \u001b[38;5;28;01melif\u001b[39;00m \u001b[38;5;28mself\u001b[39m\u001b[38;5;241m.\u001b[39mcomplexity_calculation \u001b[38;5;241m==\u001b[39m \u001b[38;5;124m'\u001b[39m\u001b[38;5;124mhfd\u001b[39m\u001b[38;5;124m'\u001b[39m:\n\u001b[1;32m     21\u001b[0m     complexity_values\u001b[38;5;241m.\u001b[39mappend(\u001b[38;5;28mself\u001b[39m\u001b[38;5;241m.\u001b[39mcalculate_hfd_exp(filter_data))\n",
      "File \u001b[0;32m~/PROJECT_DIRECTORIES/EEGFeatureExtraction/Scripts/Complexity/complexity_class.py:29\u001b[0m, in \u001b[0;36mComplexClass.calculate_hurst_exp\u001b[0;34m(self, channel_data)\u001b[0m\n\u001b[1;32m     28\u001b[0m \u001b[38;5;28;01mdef\u001b[39;00m \u001b[38;5;21mcalculate_hurst_exp\u001b[39m(\u001b[38;5;28mself\u001b[39m, channel_data):\n\u001b[0;32m---> 29\u001b[0m     hurst_values \u001b[38;5;241m=\u001b[39m [compute_hurst_exp(np\u001b[38;5;241m.\u001b[39mexpand_dims(epoch, axis\u001b[38;5;241m=\u001b[39m\u001b[38;5;241m0\u001b[39m)) \u001b[38;5;28;01mfor\u001b[39;00m epoch \u001b[38;5;129;01min\u001b[39;00m channel_data]\n\u001b[1;32m     30\u001b[0m     \u001b[38;5;28;01mreturn\u001b[39;00m np\u001b[38;5;241m.\u001b[39marray(hurst_values)\u001b[38;5;241m.\u001b[39mflatten()\n",
      "File \u001b[0;32m~/PROJECT_DIRECTORIES/EEGFeatureExtraction/Scripts/Complexity/complexity_class.py:29\u001b[0m, in \u001b[0;36m<listcomp>\u001b[0;34m(.0)\u001b[0m\n\u001b[1;32m     28\u001b[0m \u001b[38;5;28;01mdef\u001b[39;00m \u001b[38;5;21mcalculate_hurst_exp\u001b[39m(\u001b[38;5;28mself\u001b[39m, channel_data):\n\u001b[0;32m---> 29\u001b[0m     hurst_values \u001b[38;5;241m=\u001b[39m [\u001b[43mcompute_hurst_exp\u001b[49m\u001b[43m(\u001b[49m\u001b[43mnp\u001b[49m\u001b[38;5;241;43m.\u001b[39;49m\u001b[43mexpand_dims\u001b[49m\u001b[43m(\u001b[49m\u001b[43mepoch\u001b[49m\u001b[43m,\u001b[49m\u001b[43m \u001b[49m\u001b[43maxis\u001b[49m\u001b[38;5;241;43m=\u001b[39;49m\u001b[38;5;241;43m0\u001b[39;49m\u001b[43m)\u001b[49m\u001b[43m)\u001b[49m \u001b[38;5;28;01mfor\u001b[39;00m epoch \u001b[38;5;129;01min\u001b[39;00m channel_data]\n\u001b[1;32m     30\u001b[0m     \u001b[38;5;28;01mreturn\u001b[39;00m np\u001b[38;5;241m.\u001b[39marray(hurst_values)\u001b[38;5;241m.\u001b[39mflatten()\n",
      "File \u001b[0;32m~/miniconda3/envs/env2023/lib/python3.8/site-packages/mne_features/univariate.py:421\u001b[0m, in \u001b[0;36mcompute_hurst_exp\u001b[0;34m(data)\u001b[0m\n\u001b[1;32m    419\u001b[0m hurst \u001b[38;5;241m=\u001b[39m np\u001b[38;5;241m.\u001b[39mempty((n_channels,))\n\u001b[1;32m    420\u001b[0m \u001b[38;5;28;01mfor\u001b[39;00m j \u001b[38;5;129;01min\u001b[39;00m \u001b[38;5;28mrange\u001b[39m(n_channels):\n\u001b[0;32m--> 421\u001b[0m     hurst[j] \u001b[38;5;241m=\u001b[39m \u001b[43m_hurst_exp_helper\u001b[49m\u001b[43m(\u001b[49m\u001b[43mdata\u001b[49m\u001b[43m[\u001b[49m\u001b[43mj\u001b[49m\u001b[43m,\u001b[49m\u001b[43m \u001b[49m\u001b[43m:\u001b[49m\u001b[43m]\u001b[49m\u001b[43m)\u001b[49m\n\u001b[1;32m    422\u001b[0m \u001b[38;5;28;01mreturn\u001b[39;00m hurst\n",
      "File \u001b[0;32m~/miniconda3/envs/env2023/lib/python3.8/site-packages/mne_features/univariate.py:381\u001b[0m, in \u001b[0;36m_hurst_exp_helper\u001b[0;34m(x, n_splits)\u001b[0m\n\u001b[1;32m    377\u001b[0m d \u001b[38;5;241m=\u001b[39m \u001b[38;5;28mint\u001b[39m(floor(n_times \u001b[38;5;241m/\u001b[39m n))\n\u001b[1;32m    378\u001b[0m a \u001b[38;5;241m=\u001b[39m np\u001b[38;5;241m.\u001b[39mlib\u001b[38;5;241m.\u001b[39mstride_tricks\u001b[38;5;241m.\u001b[39mas_strided(a, shape\u001b[38;5;241m=\u001b[39m(d, n),\n\u001b[1;32m    379\u001b[0m                                     strides\u001b[38;5;241m=\u001b[39m(n \u001b[38;5;241m*\u001b[39m a\u001b[38;5;241m.\u001b[39mstrides[\u001b[38;5;241m-\u001b[39m\u001b[38;5;241m1\u001b[39m],\n\u001b[1;32m    380\u001b[0m                                              a\u001b[38;5;241m.\u001b[39mstrides[\u001b[38;5;241m-\u001b[39m\u001b[38;5;241m1\u001b[39m]))\n\u001b[0;32m--> 381\u001b[0m _rs \u001b[38;5;241m=\u001b[39m \u001b[43m_hurst_exp_compute_rs\u001b[49m\u001b[43m(\u001b[49m\u001b[43ma\u001b[49m\u001b[43m)\u001b[49m\n\u001b[1;32m    382\u001b[0m _rs \u001b[38;5;241m=\u001b[39m _rs[\u001b[38;5;241m~\u001b[39mnp\u001b[38;5;241m.\u001b[39misnan(_rs)]\n\u001b[1;32m    383\u001b[0m reg[j] \u001b[38;5;241m=\u001b[39m np\u001b[38;5;241m.\u001b[39mlog(np\u001b[38;5;241m.\u001b[39mmean(_rs))\n",
      "File \u001b[0;32m~/miniconda3/envs/env2023/lib/python3.8/site-packages/numba/core/serialize.py:30\u001b[0m, in \u001b[0;36m_numba_unpickle\u001b[0;34m(address, bytedata, hashed)\u001b[0m\n\u001b[1;32m     26\u001b[0m \u001b[38;5;66;03m# Keep unpickled object via `numba_unpickle` alive.\u001b[39;00m\n\u001b[1;32m     27\u001b[0m _unpickled_memo \u001b[38;5;241m=\u001b[39m {}\n\u001b[0;32m---> 30\u001b[0m \u001b[38;5;28;01mdef\u001b[39;00m \u001b[38;5;21m_numba_unpickle\u001b[39m(address, bytedata, hashed):\n\u001b[1;32m     31\u001b[0m \u001b[38;5;250m    \u001b[39m\u001b[38;5;124;03m\"\"\"Used by `numba_unpickle` from _helperlib.c\u001b[39;00m\n\u001b[1;32m     32\u001b[0m \n\u001b[1;32m     33\u001b[0m \u001b[38;5;124;03m    Parameters\u001b[39;00m\n\u001b[0;32m   (...)\u001b[0m\n\u001b[1;32m     42\u001b[0m \u001b[38;5;124;03m        unpickled object\u001b[39;00m\n\u001b[1;32m     43\u001b[0m \u001b[38;5;124;03m    \"\"\"\u001b[39;00m\n\u001b[1;32m     44\u001b[0m     key \u001b[38;5;241m=\u001b[39m (address, hashed)\n",
      "\u001b[0;31mKeyboardInterrupt\u001b[0m: "
     ]
    }
   ],
   "source": [
    "complexity_measure = 'hurst'\n",
    "for animal in analysis_ls:\n",
    "    print(f'loading {animal}')\n",
    "    animal = str(animal)\n",
    "    load_files = LoadFiles(directory_path, animal)\n",
    "    if animal in SYNGAP_2_ls:\n",
    "        data_1, data_2, brain_state_1, brain_state_2 = load_files.load_two_analysis_files(start_times_dict = SYNGAP_baseline_start, end_times_dict = SYNGAP_baseline_end)\n",
    "        #only select eeg channels and filter with bandpass butterworth filter before selecting indices\n",
    "        noise_filter_1 = NoiseFilter(data_1, brain_state_file = brain_state_1, channelvariables = channel_variables,ch_type = 'eeg')    \n",
    "        noise_filter_2 = NoiseFilter(data_2, brain_state_file = brain_state_2, channelvariables = channel_variables,ch_type = 'eeg')    \n",
    "        bandpass_filtered_data_1 = noise_filter_1.filter_data_type()\n",
    "        bandpass_filtered_data_2 = noise_filter_2.filter_data_type()\n",
    "        bandpass_filtered_data = np.concatenate((bandpass_filtered_data_1, bandpass_filtered_data_2), axis=1)\n",
    "        complex_calculator = ComplexClass(complexity_measure, channel_indices)\n",
    "        complexity_values = complex_calculator.process_recordings(bandpass_filtered_data, concatenated=True)\n",
    "        complexity_df = complex_calculator.transform_to_dataframe(complexity_values, channel_labels)\n",
    "        complexity_df.to_csv(os.path.join(results_path, f'{animal}_{complexity_measure}.csv'))\n",
    "    \n",
    "    elif animal in SYNGAP_1_ls:\n",
    "        print(animal)\n",
    "        data_1, brain_state_1 = load_files.load_one_analysis_file(start_times_dict = SYNGAP_baseline_start, end_times_dict = SYNGAP_baseline_end)\n",
    "        #only select eeg channels and filter with bandpass butterworth filter before selecting indices\n",
    "        noise_filter_1 = NoiseFilter(data_1, brain_state_file = brain_state_1, channelvariables = channel_variables,ch_type = 'eeg')    \n",
    "        bandpass_filtered_data_1 = noise_filter_1.filter_data_type()\n",
    "        complex_calculator = ComplexClass(complexity_measure, channel_indices)\n",
    "        complexity_values = complex_calculator.process_recordings(bandpass_filtered_data_1, concatenated=False)\n",
    "        complexity_df = complex_calculator.transform_to_dataframe(complexity_values, channel_labels)\n",
    "        complexity_df.to_csv(os.path.join(results_path, f'{animal}_{complexity_measure}.csv'))"
   ]
  }
 ],
 "metadata": {
  "kernelspec": {
   "display_name": "Python (new2024)",
   "language": "python",
   "name": "env2023"
  },
  "language_info": {
   "codemirror_mode": {
    "name": "ipython",
    "version": 3
   },
   "file_extension": ".py",
   "mimetype": "text/x-python",
   "name": "python",
   "nbconvert_exporter": "python",
   "pygments_lexer": "ipython3",
   "version": "3.8.19"
  }
 },
 "nbformat": 4,
 "nbformat_minor": 5
}
