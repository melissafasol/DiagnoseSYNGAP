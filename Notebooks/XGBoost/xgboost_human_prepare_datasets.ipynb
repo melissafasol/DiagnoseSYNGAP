{
 "cells": [
  {
   "cell_type": "code",
   "execution_count": 1,
   "id": "405c4314",
   "metadata": {},
   "outputs": [
    {
     "name": "stderr",
     "output_type": "stream",
     "text": [
      "/home/melissa/miniconda3/envs/env2023/lib/python3.8/site-packages/mne_features/utils.py:21: NumbaDeprecationWarning: The 'nopython' keyword argument was not supplied to the 'numba.jit' decorator. The implicit default value for this argument is currently False, but it will be changed to True in Numba 0.59.0. See https://numba.readthedocs.io/en/stable/reference/deprecation.html#deprecation-of-object-mode-fall-back-behaviour-when-using-jit for details.\n",
      "  @nb.jit()\n"
     ]
    }
   ],
   "source": [
    "import os \n",
    "import sys\n",
    "import numpy as np \n",
    "import pandas as pd \n",
    "import scipy \n",
    "import matplotlib\n",
    "import mne \n",
    "import EntropyHub as EH\n",
    "\n",
    "from mne_features.bivariate import compute_phase_lock_val, compute_max_cross_corr\n",
    "\n",
    "os.chdir('/home/melissa/PROJECT_DIRECTORIES/EEGFeatureExtraction/Scripts/Human/')\n",
    "%run preprocess_human.py"
   ]
  },
  {
   "cell_type": "code",
   "execution_count": 2,
   "id": "8db02804",
   "metadata": {},
   "outputs": [
    {
     "data": {
      "text/plain": [
       "(527, 21)"
      ]
     },
     "execution_count": 2,
     "metadata": {},
     "output_type": "execute_result"
    }
   ],
   "source": [
    "os.chdir('/home/melissa/RESULTS/XGBoost/Human_SYNGAP1/Cross_Corr/')\n",
    "test = np.load('P1 N1_cross_corr.npy')\n",
    "test_error = np.load('P1 N1_cross_corr.npy')\n",
    "test_error.shape"
   ]
  },
  {
   "cell_type": "code",
   "execution_count": 34,
   "id": "011dfbca",
   "metadata": {},
   "outputs": [],
   "source": [
    "os.chdir('/home/melissa/RESULTS/XGBoost/Human_SYNGAP1/Cross_Corr_Channels/')\n",
    "test = np.load('P1 N1_C3_M2.npy')"
   ]
  },
  {
   "cell_type": "code",
   "execution_count": 35,
   "id": "70058edd",
   "metadata": {},
   "outputs": [
    {
     "name": "stdout",
     "output_type": "stream",
     "text": [
      "(527,)\n"
     ]
    },
    {
     "data": {
      "text/plain": [
       "array([0.36480151, 0.37934685, 0.39629576, 0.40677125, 0.42199435,\n",
       "       0.43840005, 0.43965622, 0.42946436, 0.42347356, 0.42320147,\n",
       "       0.42738164, 0.44040106, 0.45340066, 0.45235596, 0.43934284,\n",
       "       0.42298612, 0.40900558, 0.40722467, 0.42082727, 0.4340508 ,\n",
       "       0.43636819, 0.43616906, 0.43847764, 0.44051275, 0.44964731,\n",
       "       0.47337708, 0.44971646, 0.42450268, 0.42701408, 0.44999241,\n",
       "       0.47161832, 0.47754896, 0.46962906, 0.463831  , 0.46648099,\n",
       "       0.49735199, 0.51325839, 0.5119687 , 0.49904172, 0.49157363,\n",
       "       0.48809539, 0.45763674, 0.44574432, 0.44847436, 0.45696635,\n",
       "       0.45021244, 0.42021184, 0.38891752, 0.40873138, 0.42168334,\n",
       "       0.41879347, 0.42977395, 0.45471653, 0.48174607, 0.50032547,\n",
       "       0.51028338, 0.51620035, 0.51634208, 0.50886837, 0.50109899,\n",
       "       0.4980053 , 0.49403342, 0.48993899, 0.49826288, 0.51587086,\n",
       "       0.51971547, 0.50479297, 0.50588683, 0.5132458 , 0.50309937,\n",
       "       0.49324932, 0.50124908, 0.51133409, 0.50107999, 0.47651114,\n",
       "       0.46293936, 0.45204217, 0.42197792, 0.39356368, 0.38932251,\n",
       "       0.40880944, 0.43316039, 0.44375816, 0.39897078, 0.36137337,\n",
       "       0.3453115 , 0.35800044, 0.38574392, 0.41682046, 0.41833127,\n",
       "       0.41122774, 0.40550343, 0.41237169, 0.40066265, 0.38580118,\n",
       "       0.38023834, 0.37529289, 0.3617861 , 0.33775819, 0.3116235 ,\n",
       "       0.29739936, 0.2969257 , 0.29817768, 0.29690623, 0.29766673,\n",
       "       0.29775059, 0.2961873 , 0.30452114, 0.32792107, 0.35375836,\n",
       "       0.36893986, 0.37472986, 0.3840526 , 0.40816234, 0.44178458,\n",
       "       0.4644001 , 0.46417975, 0.45061295, 0.43792527, 0.43261541,\n",
       "       0.43795783, 0.45215552, 0.46536497, 0.46973047, 0.4636514 ,\n",
       "       0.44631775, 0.42304192, 0.40877325, 0.41141883, 0.42626063,\n",
       "       0.45207959, 0.48599454, 0.50751942, 0.48505228, 0.48631908,\n",
       "       0.50273128, 0.51177007, 0.50403616, 0.44829627, 0.40453603,\n",
       "       0.36471928, 0.34389458, 0.3431924 , 0.34821378, 0.3395398 ,\n",
       "       0.34086659, 0.3526218 , 0.38872773, 0.40780492, 0.41501279,\n",
       "       0.39924104, 0.36774361, 0.3411085 , 0.33214289, 0.34628987,\n",
       "       0.36304586, 0.37017721, 0.36502762, 0.36827184, 0.38442061,\n",
       "       0.40133448, 0.4157923 , 0.42014571, 0.40540162, 0.38014455,\n",
       "       0.36224324, 0.35102362, 0.32371639, 0.3276481 , 0.35322983,\n",
       "       0.38426253, 0.392486  , 0.36234509, 0.31415514, 0.28024375,\n",
       "       0.26797209, 0.2685848 , 0.27480513, 0.28111131, 0.28622348,\n",
       "       0.28808939, 0.2751905 , 0.26441071, 0.30809363, 0.3690858 ,\n",
       "       0.37418103, 0.2846743 , 0.23634578, 0.37456462, 0.50292591,\n",
       "       0.5435462 , 0.49369825, 0.3963446 , 0.33075065, 0.30234039,\n",
       "       0.28398396, 0.26860096, 0.25437742, 0.25946366, 0.27610994,\n",
       "       0.28508399, 0.28512035, 0.28144755, 0.28977397, 0.30389636,\n",
       "       0.31555002, 0.34282544, 0.36540791, 0.38465182, 0.39665711,\n",
       "       0.4072636 , 0.42164884, 0.43453382, 0.43617578, 0.41551324,\n",
       "       0.38796545, 0.32951159, 0.30756409, 0.29510794, 0.29183006,\n",
       "       0.29910066, 0.31515152, 0.33528111, 0.35509895, 0.37233809,\n",
       "       0.38553463, 0.39292142, 0.39534467, 0.39683698, 0.3982335 ,\n",
       "       0.39590442, 0.42655663, 0.38020118, 0.3706184 , 0.36148071,\n",
       "       0.35889768, 0.3929875 , 0.39908797, 0.40371026, 0.41003922,\n",
       "       0.4201853 , 0.43559638, 0.43418758, 0.43113994, 0.42767944,\n",
       "       0.41887273, 0.40160167, 0.37775336, 0.35286348, 0.34078162,\n",
       "       0.35454835, 0.38581132, 0.37926449, 0.37964769, 0.38572154,\n",
       "       0.39730069, 0.39786766, 0.38332443, 0.38935802, 0.38742131,\n",
       "       0.39399754, 0.41578233, 0.42342855, 0.4050662 , 0.389391  ,\n",
       "       0.38540258, 0.39493442, 0.41025723, 0.42198956, 0.42816084,\n",
       "       0.42642477, 0.38772376, 0.3720527 , 0.37047582, 0.3764699 ,\n",
       "       0.38171095, 0.3464199 , 0.2977671 , 0.24709322, 0.22245413,\n",
       "       0.25231638, 0.33863148, 0.35182769, 0.35725534, 0.37682453,\n",
       "       0.39874582, 0.40762443, 0.40412857, 0.36229849, 0.2858609 ,\n",
       "       0.29410597, 0.36491181, 0.35102718, 0.33271153, 0.34281817,\n",
       "       0.37624237, 0.3726779 , 0.28671988, 0.28358754, 0.2960065 ,\n",
       "       0.32314545, 0.3673234 , 0.39129775, 0.42245918, 0.45062359,\n",
       "       0.39826373, 0.345124  , 0.33543868, 0.32872282, 0.33065756,\n",
       "       0.34823857, 0.40329087, 0.43740526, 0.4746598 , 0.46736098,\n",
       "       0.42352191, 0.41600118, 0.42320314, 0.43749313, 0.42297314,\n",
       "       0.41158329, 0.41049796, 0.45198288, 0.47083944, 0.47236868,\n",
       "       0.45968134, 0.44193746, 0.42423836, 0.40432224, 0.35888138,\n",
       "       0.37339553, 0.38338908, 0.37767921, 0.36320631, 0.42314553,\n",
       "       0.43501292, 0.43910476, 0.43829991, 0.4419397 , 0.45559559,\n",
       "       0.45520765, 0.45776479, 0.45848108, 0.48149961, 0.55729266,\n",
       "       0.4538189 , 0.46176474, 0.41541904, 0.39907495, 0.40122629,\n",
       "       0.41057918, 0.41418241, 0.41118968, 0.41579818, 0.43982912,\n",
       "       0.48392362, 0.48392917, 0.47024501, 0.39409567, 0.38896701,\n",
       "       0.36596119, 0.37627161, 0.38992395, 0.39203047, 0.39368963,\n",
       "       0.36331645, 0.40671568, 0.43625339, 0.40711524, 0.30863673,\n",
       "       0.33465372, 0.3319194 , 0.34912   , 0.38552589, 0.35592231,\n",
       "       0.32826766, 0.36692287, 0.38566568, 0.37730564, 0.35492014,\n",
       "       0.35105943, 0.37210687, 0.44900787, 0.42952393, 0.40855007,\n",
       "       0.42866558, 0.42696114, 0.44109007, 0.40044044, 0.38759085,\n",
       "       0.37480256, 0.43294402, 0.39860195, 0.39532774, 0.32160182,\n",
       "       0.34343164, 0.4988004 , 0.4557983 , 0.45868494, 0.44969041,\n",
       "       0.45592501, 0.48257675, 0.46878846, 0.44633424, 0.41495222,\n",
       "       0.36356682, 0.34607416, 0.33975889, 0.34433287, 0.35717596,\n",
       "       0.3709604 , 0.3815909 , 0.37807602, 0.33862947, 0.38056464,\n",
       "       0.37495682, 0.42957381, 0.43804839, 0.41068149, 0.30726282,\n",
       "       0.30198744, 0.30688705, 0.32381263, 0.3299538 , 0.34042792,\n",
       "       0.34629156, 0.34693305, 0.34702564, 0.34951238, 0.37508684,\n",
       "       0.32709205, 0.32535068, 0.31972844, 0.3556387 , 0.35617284,\n",
       "       0.43877754, 0.39801149, 0.36940377, 0.39745266, 0.37535307,\n",
       "       0.32022194, 0.26261701, 0.39690375, 0.42507463, 0.40561514,\n",
       "       0.39789942, 0.38563189, 0.36096667, 0.33443414, 0.35662367,\n",
       "       0.32224653, 0.23119601, 0.3447442 , 0.4947785 , 0.37053369,\n",
       "       0.30101487, 0.32770691, 0.28522691, 0.28629475, 0.31494275,\n",
       "       0.30282359, 0.43362728, 0.41641877, 0.39253323, 0.40298179,\n",
       "       0.40509049, 0.37326719, 0.31351088, 0.29630176, 0.30491607,\n",
       "       0.39545898, 0.32774914, 0.33351777, 0.36855303, 0.3886089 ,\n",
       "       0.43243048, 0.3905044 , 0.38633556, 0.41074287, 0.42195846,\n",
       "       0.43283894, 0.4499711 , 0.39181787, 0.35471224, 0.39599781,\n",
       "       0.36864444, 0.37180732, 0.38633625, 0.38076296, 0.38670732,\n",
       "       0.41537282, 0.45553998, 0.36695908, 0.39432897, 0.39266202,\n",
       "       0.41259477, 0.40065458, 0.39293303, 0.39094395, 0.38283399,\n",
       "       0.36862376, 0.36230729, 0.36706275, 0.37033908, 0.36695909,\n",
       "       0.36322867, 0.36353825, 0.37166773, 0.38528233, 0.39437685,\n",
       "       0.38672523, 0.36083863, 0.33547161, 0.30491938, 0.29548767,\n",
       "       0.30011921, 0.31950292, 0.34227605, 0.35820186, 0.31554369,\n",
       "       0.29708366, 0.28982977, 0.2583461 , 0.25255776, 0.26850828,\n",
       "       0.44037127, 0.43349917])"
      ]
     },
     "execution_count": 35,
     "metadata": {},
     "output_type": "execute_result"
    }
   ],
   "source": [
    "print(test.shape)\n",
    "test\n"
   ]
  },
  {
   "cell_type": "code",
   "execution_count": 16,
   "id": "afbedf06",
   "metadata": {},
   "outputs": [
    {
     "data": {
      "text/plain": [
       "525"
      ]
     },
     "execution_count": 16,
     "metadata": {},
     "output_type": "execute_result"
    }
   ],
   "source": [
    "os.chdir('/home/melissa/RESULTS/FINAL_MODEL/Human/Connectivity_MNE/xgb_dataframes/')\n",
    "test_mne = pd.read_csv('P1 N1_all_conn_measures.csv')\n",
    "len(test_mne['Idx'].to_list())"
   ]
  },
  {
   "cell_type": "code",
   "execution_count": 3,
   "id": "8303afdf",
   "metadata": {},
   "outputs": [],
   "source": [
    "human_data_folder = '/home/melissa/PREPROCESSING/SYNGAP1/SYNGAP1_Human_Data'\n",
    "results_path = '/home/melissa/RESULTS/FINAL_MODEL/Human/Cross_Corr/'\n",
    "noise_directory = '/home/melissa/PREPROCESSING/SYNGAP1/human_npy/harmonic_idx/'\n",
    "mne_directory = '/home/melissa/RESULTS/FINAL_MODEL/Human/Connectivity_MNE/xgb_dataframes/'\n",
    "\n",
    "patient_list  =  [ 'P24 N1','P27 N1','P28 N1',\n",
    "                  'P28 N2', 'P29 N2', 'P30 N1']\n",
    "                 #'P6 N1', ['P1 N1', 'P2 N1', 'P2 N2', 'P3 N1', 'P3 N2', 'P4 N1', 'P4 N2', 'P5 N1',\n",
    "                 #'P6 N2', 'P7 N1', 'P7 N2','P8 N1','P10 N1', 'P11 N1', 'P15 N1',\n",
    "                 #'P16 N1', 'P17 N1', 'P18 N1','P20 N1', 'P21 N1', 'P21 N2', 'P21 N3',\n",
    "                 #'P22 N1','P23 N1', 'P23 N2', 'P23 N3',\n"
   ]
  },
  {
   "cell_type": "code",
   "execution_count": 37,
   "id": "7622af81",
   "metadata": {},
   "outputs": [
    {
     "name": "stdout",
     "output_type": "stream",
     "text": [
      "P24 N1\n",
      "Extracting EDF parameters from /home/melissa/PREPROCESSING/SYNGAP1/SYNGAP1_Human_Data/P24 N1_(1).edf...\n",
      "EDF file detected\n",
      "Setting channel info structure...\n",
      "Creating raw.info structure...\n",
      "Reading 0 ... 4389887  =      0.000 ... 17147.996 secs...\n"
     ]
    },
    {
     "name": "stderr",
     "output_type": "stream",
     "text": [
      "/home/melissa/PROJECT_DIRECTORIES/EEGFeatureExtraction/Scripts/Human/preprocess_human.py:14: RuntimeWarning: Number of records from the header does not match the file size (perhaps the recording was not stopped before exiting). Inferring from the file size.\n",
      "  raw_edf = mne.io.read_raw_edf(str(file_name),\n"
     ]
    },
    {
     "name": "stdout",
     "output_type": "stream",
     "text": [
      "Filtering raw data in 1 contiguous segment\n",
      "Setting up band-pass filter from 0.3 - 35 Hz\n",
      "\n",
      "FIR filter parameters\n",
      "---------------------\n",
      "Designing a one-pass, zero-phase, non-causal bandpass filter:\n",
      "- Windowed time-domain design (firwin) method\n",
      "- Hamming window with 0.0194 passband ripple and 53 dB stopband attenuation\n",
      "- Lower passband edge: 0.30\n",
      "- Lower transition bandwidth: 0.30 Hz (-6 dB cutoff frequency: 0.15 Hz)\n",
      "- Upper passband edge: 35.00 Hz\n",
      "- Upper transition bandwidth: 8.75 Hz (-6 dB cutoff frequency: 39.38 Hz)\n",
      "- Filter length: 2817 samples (11.004 sec)\n",
      "\n"
     ]
    },
    {
     "name": "stderr",
     "output_type": "stream",
     "text": [
      "[Parallel(n_jobs=1)]: Using backend SequentialBackend with 1 concurrent workers.\n",
      "[Parallel(n_jobs=1)]: Done   1 out of   1 | elapsed:    0.1s remaining:    0.0s\n",
      "[Parallel(n_jobs=1)]: Done   2 out of   2 | elapsed:    0.2s remaining:    0.0s\n",
      "[Parallel(n_jobs=1)]: Done   3 out of   3 | elapsed:    0.3s remaining:    0.0s\n",
      "[Parallel(n_jobs=1)]: Done   4 out of   4 | elapsed:    0.4s remaining:    0.0s\n",
      "[Parallel(n_jobs=1)]: Done   6 out of   6 | elapsed:    0.6s finished\n"
     ]
    },
    {
     "name": "stdout",
     "output_type": "stream",
     "text": [
      "cross correlation values for P24 N1 saved\n",
      "P27 N1\n",
      "Extracting EDF parameters from /home/melissa/PREPROCESSING/SYNGAP1/SYNGAP1_Human_Data/P27 N1_(1).edf...\n",
      "EDF file detected\n",
      "Setting channel info structure...\n",
      "Creating raw.info structure...\n",
      "Reading 0 ... 3652607  =      0.000 ... 14267.996 secs...\n"
     ]
    },
    {
     "name": "stderr",
     "output_type": "stream",
     "text": [
      "/home/melissa/PROJECT_DIRECTORIES/EEGFeatureExtraction/Scripts/Human/preprocess_human.py:14: RuntimeWarning: Number of records from the header does not match the file size (perhaps the recording was not stopped before exiting). Inferring from the file size.\n",
      "  raw_edf = mne.io.read_raw_edf(str(file_name),\n"
     ]
    },
    {
     "name": "stdout",
     "output_type": "stream",
     "text": [
      "Filtering raw data in 1 contiguous segment\n",
      "Setting up band-pass filter from 0.3 - 35 Hz\n",
      "\n",
      "FIR filter parameters\n",
      "---------------------\n",
      "Designing a one-pass, zero-phase, non-causal bandpass filter:\n",
      "- Windowed time-domain design (firwin) method\n",
      "- Hamming window with 0.0194 passband ripple and 53 dB stopband attenuation\n",
      "- Lower passband edge: 0.30\n",
      "- Lower transition bandwidth: 0.30 Hz (-6 dB cutoff frequency: 0.15 Hz)\n",
      "- Upper passband edge: 35.00 Hz\n",
      "- Upper transition bandwidth: 8.75 Hz (-6 dB cutoff frequency: 39.38 Hz)\n",
      "- Filter length: 2817 samples (11.004 sec)\n",
      "\n"
     ]
    },
    {
     "name": "stderr",
     "output_type": "stream",
     "text": [
      "[Parallel(n_jobs=1)]: Using backend SequentialBackend with 1 concurrent workers.\n",
      "[Parallel(n_jobs=1)]: Done   1 out of   1 | elapsed:    0.1s remaining:    0.0s\n",
      "[Parallel(n_jobs=1)]: Done   2 out of   2 | elapsed:    0.2s remaining:    0.0s\n",
      "[Parallel(n_jobs=1)]: Done   3 out of   3 | elapsed:    0.2s remaining:    0.0s\n",
      "[Parallel(n_jobs=1)]: Done   4 out of   4 | elapsed:    0.3s remaining:    0.0s\n",
      "[Parallel(n_jobs=1)]: Done   6 out of   6 | elapsed:    0.5s finished\n"
     ]
    },
    {
     "name": "stdout",
     "output_type": "stream",
     "text": [
      "cross correlation values for P27 N1 saved\n",
      "P28 N1\n",
      "Extracting EDF parameters from /home/melissa/PREPROCESSING/SYNGAP1/SYNGAP1_Human_Data/P28 N1_(1).edf...\n",
      "EDF file detected\n",
      "Setting channel info structure...\n",
      "Creating raw.info structure...\n",
      "Reading 0 ... 3283967  =      0.000 ... 12827.996 secs...\n"
     ]
    },
    {
     "name": "stderr",
     "output_type": "stream",
     "text": [
      "/home/melissa/PROJECT_DIRECTORIES/EEGFeatureExtraction/Scripts/Human/preprocess_human.py:14: RuntimeWarning: Number of records from the header does not match the file size (perhaps the recording was not stopped before exiting). Inferring from the file size.\n",
      "  raw_edf = mne.io.read_raw_edf(str(file_name),\n"
     ]
    },
    {
     "name": "stdout",
     "output_type": "stream",
     "text": [
      "Filtering raw data in 1 contiguous segment\n",
      "Setting up band-pass filter from 0.3 - 35 Hz\n",
      "\n",
      "FIR filter parameters\n",
      "---------------------\n",
      "Designing a one-pass, zero-phase, non-causal bandpass filter:\n",
      "- Windowed time-domain design (firwin) method\n",
      "- Hamming window with 0.0194 passband ripple and 53 dB stopband attenuation\n",
      "- Lower passband edge: 0.30\n",
      "- Lower transition bandwidth: 0.30 Hz (-6 dB cutoff frequency: 0.15 Hz)\n",
      "- Upper passband edge: 35.00 Hz\n",
      "- Upper transition bandwidth: 8.75 Hz (-6 dB cutoff frequency: 39.38 Hz)\n",
      "- Filter length: 2817 samples (11.004 sec)\n",
      "\n"
     ]
    },
    {
     "name": "stderr",
     "output_type": "stream",
     "text": [
      "[Parallel(n_jobs=1)]: Using backend SequentialBackend with 1 concurrent workers.\n",
      "[Parallel(n_jobs=1)]: Done   1 out of   1 | elapsed:    0.1s remaining:    0.0s\n",
      "[Parallel(n_jobs=1)]: Done   2 out of   2 | elapsed:    0.1s remaining:    0.0s\n",
      "[Parallel(n_jobs=1)]: Done   3 out of   3 | elapsed:    0.2s remaining:    0.0s\n",
      "[Parallel(n_jobs=1)]: Done   4 out of   4 | elapsed:    0.3s remaining:    0.0s\n",
      "[Parallel(n_jobs=1)]: Done   6 out of   6 | elapsed:    0.4s finished\n"
     ]
    },
    {
     "name": "stdout",
     "output_type": "stream",
     "text": [
      "cross correlation values for P28 N1 saved\n",
      "P28 N2\n",
      "Extracting EDF parameters from /home/melissa/PREPROCESSING/SYNGAP1/SYNGAP1_Human_Data/P28 N2_(1).edf...\n",
      "EDF file detected\n",
      "Setting channel info structure...\n",
      "Creating raw.info structure...\n",
      "Reading 0 ... 3283967  =      0.000 ... 12827.996 secs...\n"
     ]
    },
    {
     "name": "stderr",
     "output_type": "stream",
     "text": [
      "/home/melissa/PROJECT_DIRECTORIES/EEGFeatureExtraction/Scripts/Human/preprocess_human.py:14: RuntimeWarning: Number of records from the header does not match the file size (perhaps the recording was not stopped before exiting). Inferring from the file size.\n",
      "  raw_edf = mne.io.read_raw_edf(str(file_name),\n"
     ]
    },
    {
     "name": "stdout",
     "output_type": "stream",
     "text": [
      "Filtering raw data in 1 contiguous segment\n",
      "Setting up band-pass filter from 0.3 - 35 Hz\n",
      "\n",
      "FIR filter parameters\n",
      "---------------------\n",
      "Designing a one-pass, zero-phase, non-causal bandpass filter:\n",
      "- Windowed time-domain design (firwin) method\n",
      "- Hamming window with 0.0194 passband ripple and 53 dB stopband attenuation\n",
      "- Lower passband edge: 0.30\n",
      "- Lower transition bandwidth: 0.30 Hz (-6 dB cutoff frequency: 0.15 Hz)\n",
      "- Upper passband edge: 35.00 Hz\n",
      "- Upper transition bandwidth: 8.75 Hz (-6 dB cutoff frequency: 39.38 Hz)\n",
      "- Filter length: 2817 samples (11.004 sec)\n",
      "\n"
     ]
    },
    {
     "name": "stderr",
     "output_type": "stream",
     "text": [
      "[Parallel(n_jobs=1)]: Using backend SequentialBackend with 1 concurrent workers.\n",
      "[Parallel(n_jobs=1)]: Done   1 out of   1 | elapsed:    0.1s remaining:    0.0s\n",
      "[Parallel(n_jobs=1)]: Done   2 out of   2 | elapsed:    0.1s remaining:    0.0s\n",
      "[Parallel(n_jobs=1)]: Done   3 out of   3 | elapsed:    0.2s remaining:    0.0s\n",
      "[Parallel(n_jobs=1)]: Done   4 out of   4 | elapsed:    0.3s remaining:    0.0s\n",
      "[Parallel(n_jobs=1)]: Done   6 out of   6 | elapsed:    0.4s finished\n"
     ]
    },
    {
     "name": "stdout",
     "output_type": "stream",
     "text": [
      "cross correlation values for P28 N2 saved\n",
      "P29 N2\n",
      "Extracting EDF parameters from /home/melissa/PREPROCESSING/SYNGAP1/SYNGAP1_Human_Data/P29 N2_(1).edf...\n",
      "EDF file detected\n",
      "Setting channel info structure...\n",
      "Creating raw.info structure...\n",
      "Reading 0 ... 3082751  =      0.000 ... 12041.996 secs...\n"
     ]
    },
    {
     "name": "stderr",
     "output_type": "stream",
     "text": [
      "/home/melissa/PROJECT_DIRECTORIES/EEGFeatureExtraction/Scripts/Human/preprocess_human.py:14: RuntimeWarning: Number of records from the header does not match the file size (perhaps the recording was not stopped before exiting). Inferring from the file size.\n",
      "  raw_edf = mne.io.read_raw_edf(str(file_name),\n"
     ]
    },
    {
     "name": "stdout",
     "output_type": "stream",
     "text": [
      "Filtering raw data in 1 contiguous segment\n",
      "Setting up band-pass filter from 0.3 - 35 Hz\n",
      "\n",
      "FIR filter parameters\n",
      "---------------------\n",
      "Designing a one-pass, zero-phase, non-causal bandpass filter:\n",
      "- Windowed time-domain design (firwin) method\n",
      "- Hamming window with 0.0194 passband ripple and 53 dB stopband attenuation\n",
      "- Lower passband edge: 0.30\n",
      "- Lower transition bandwidth: 0.30 Hz (-6 dB cutoff frequency: 0.15 Hz)\n",
      "- Upper passband edge: 35.00 Hz\n",
      "- Upper transition bandwidth: 8.75 Hz (-6 dB cutoff frequency: 39.38 Hz)\n",
      "- Filter length: 2817 samples (11.004 sec)\n",
      "\n"
     ]
    },
    {
     "name": "stderr",
     "output_type": "stream",
     "text": [
      "[Parallel(n_jobs=1)]: Using backend SequentialBackend with 1 concurrent workers.\n",
      "[Parallel(n_jobs=1)]: Done   1 out of   1 | elapsed:    0.1s remaining:    0.0s\n",
      "[Parallel(n_jobs=1)]: Done   2 out of   2 | elapsed:    0.1s remaining:    0.0s\n",
      "[Parallel(n_jobs=1)]: Done   3 out of   3 | elapsed:    0.2s remaining:    0.0s\n",
      "[Parallel(n_jobs=1)]: Done   4 out of   4 | elapsed:    0.3s remaining:    0.0s\n",
      "[Parallel(n_jobs=1)]: Done   6 out of   6 | elapsed:    0.4s finished\n"
     ]
    },
    {
     "name": "stdout",
     "output_type": "stream",
     "text": [
      "cross correlation values for P29 N2 saved\n",
      "P30 N1\n",
      "Extracting EDF parameters from /home/melissa/PREPROCESSING/SYNGAP1/SYNGAP1_Human_Data/P30 N1_(1).edf...\n",
      "EDF file detected\n",
      "Setting channel info structure...\n",
      "Creating raw.info structure...\n",
      "Reading 0 ... 2982399  =      0.000 ... 11649.996 secs...\n"
     ]
    },
    {
     "name": "stderr",
     "output_type": "stream",
     "text": [
      "/home/melissa/PROJECT_DIRECTORIES/EEGFeatureExtraction/Scripts/Human/preprocess_human.py:14: RuntimeWarning: Number of records from the header does not match the file size (perhaps the recording was not stopped before exiting). Inferring from the file size.\n",
      "  raw_edf = mne.io.read_raw_edf(str(file_name),\n"
     ]
    },
    {
     "name": "stdout",
     "output_type": "stream",
     "text": [
      "Filtering raw data in 1 contiguous segment\n",
      "Setting up band-pass filter from 0.3 - 35 Hz\n",
      "\n",
      "FIR filter parameters\n",
      "---------------------\n",
      "Designing a one-pass, zero-phase, non-causal bandpass filter:\n",
      "- Windowed time-domain design (firwin) method\n",
      "- Hamming window with 0.0194 passband ripple and 53 dB stopband attenuation\n",
      "- Lower passband edge: 0.30\n",
      "- Lower transition bandwidth: 0.30 Hz (-6 dB cutoff frequency: 0.15 Hz)\n",
      "- Upper passband edge: 35.00 Hz\n",
      "- Upper transition bandwidth: 8.75 Hz (-6 dB cutoff frequency: 39.38 Hz)\n",
      "- Filter length: 2817 samples (11.004 sec)\n",
      "\n"
     ]
    },
    {
     "name": "stderr",
     "output_type": "stream",
     "text": [
      "[Parallel(n_jobs=1)]: Using backend SequentialBackend with 1 concurrent workers.\n",
      "[Parallel(n_jobs=1)]: Done   1 out of   1 | elapsed:    0.1s remaining:    0.0s\n",
      "[Parallel(n_jobs=1)]: Done   2 out of   2 | elapsed:    0.1s remaining:    0.0s\n",
      "[Parallel(n_jobs=1)]: Done   3 out of   3 | elapsed:    0.2s remaining:    0.0s\n",
      "[Parallel(n_jobs=1)]: Done   4 out of   4 | elapsed:    0.3s remaining:    0.0s\n",
      "[Parallel(n_jobs=1)]: Done   6 out of   6 | elapsed:    0.4s finished\n"
     ]
    },
    {
     "name": "stdout",
     "output_type": "stream",
     "text": [
      "cross correlation values for P30 N1 saved\n"
     ]
    }
   ],
   "source": [
    "for patient in patient_list:\n",
    "    print(patient)\n",
    "    file_name = patient + '_(1).edf'\n",
    "    filtered_data = load_filtered_data(file_path = human_data_folder, file_name = file_name)\n",
    "    number_epochs, epochs = split_into_epochs(filtered_data, sampling_rate = 256, num_seconds = 30)\n",
    "    epoch_array = np.array(epochs)\n",
    "    \n",
    "    #load mne features\n",
    "    patient_mne = pd.read_csv(mne_directory + patient + '_all_conn_measures.csv')\n",
    "    mne_indices = patient_mne['Idx'].to_list()\n",
    "    \n",
    "    cross_corr_ls_1 = []\n",
    "    error_1 = []\n",
    "    \n",
    "    for idx in mne_indices:\n",
    "        try:\n",
    "            reshape_data = np.moveaxis(np.moveaxis((epoch_array), 1, 0), 2,1)\n",
    "            one_epoch_1 = compute_max_cross_corr(sfreq = 256, data = reshape_data[:, idx]) \n",
    "            cross_corr_ls_1.append(one_epoch_1)\n",
    "        except:\n",
    "            print(str(patient) + ' error for index ' + str(idx))\n",
    "            error_1.append(idx)\n",
    "\n",
    "    cross_corr_1 = np.array(cross_corr_ls_1)\n",
    "    error_array_1 = np.array(error_1)\n",
    "    os.chdir(results_path)\n",
    "    np.save(patient + '_cross_corr.npy', cross_corr_1)\n",
    "    np.save(patient + '_error.npy', error_array_1)\n",
    "    print('cross correlation values for ' + patient + ' saved')"
   ]
  },
  {
   "cell_type": "markdown",
   "id": "d881928e",
   "metadata": {},
   "source": [
    "## Entropy "
   ]
  },
  {
   "cell_type": "code",
   "execution_count": 3,
   "id": "09ba2ae0",
   "metadata": {},
   "outputs": [],
   "source": [
    "os.chdir('/home/melissa/RESULTS/FINAL_MODEL/Human/Complexity/DispEn/')\n",
    "test_en = np.load('P1 N1_01_dispen.npy')"
   ]
  },
  {
   "cell_type": "code",
   "execution_count": 9,
   "id": "78356a93",
   "metadata": {},
   "outputs": [],
   "source": [
    "human_data_folder = '/home/melissa/PREPROCESSING/SYNGAP1/SYNGAP1_Human_Data'\n",
    "noise_directory = '/home/melissa/PREPROCESSING/SYNGAP1/human_npy/harmonic_idx/'\n",
    "results_path = '/home/melissa/RESULTS/FINAL_MODEL/Human/Complexity/DispEn_DF/'\n",
    "\n",
    "patient_list  =  [ 'P23 N3', 'P24 N1','P27 N1','P28 N1',\n",
    "                  'P28 N2', 'P29 N2', 'P30 N1', 'P1 N1', 'P2 N1', 'P2 N2',\n",
    "                  'P3 N1', 'P3 N2', 'P4 N1', 'P4 N2', 'P5 N1']\n",
    "                  #'P6 N1','P6 N2', 'P7 N1', 'P7 N2','P8 N1','P10 N1', 'P11 N1', 'P15 N1',\n",
    "                  #'P16 N1', 'P17 N1', 'P18 N1','P20 N1', 'P21 N1', 'P21 N2', 'P21 N3',\n",
    "                  #'P22 N1','P23 N1','P23 N2',\n",
    "\n",
    "# Define a function to calculate DispEn for a channel\n",
    "def calculate_dispen(data_input, patient_id, channel_list, clean_indices, results_path):\n",
    "    \n",
    "    all_indices = []\n",
    "    \n",
    "    for clean_idx in clean_indices:\n",
    "        all_channels = []\n",
    "        for chan_idx, channel in enumerate(channel_list):\n",
    "            Dispx, RDE = EH.DispEn(Sig = np.array(data_input[clean_idx][chan_idx, :]), m=3, tau=2, c=4, Typex='ncdf')\n",
    "            dispen_dict = {str(channel) + '_dispen': [Dispx], str(channel) + '_RDE': [RDE]}\n",
    "            dispen_df = pd.DataFrame(data = dispen_dict)\n",
    "            all_channels.append(dispen_df)\n",
    "        dispen_idx = pd.concat(all_channels, axis = 1)\n",
    "        all_indices.append(dispen_idx)\n",
    "    dispen_all_epochs = pd.concat(all_indices, axis = 0)\n",
    "    \n",
    "    dispen_all_epochs.to_csv(results_path + str(patient_id) + '_dispen.csv')\n",
    "    "
   ]
  },
  {
   "cell_type": "code",
   "execution_count": 10,
   "id": "6f222944",
   "metadata": {},
   "outputs": [
    {
     "name": "stdout",
     "output_type": "stream",
     "text": [
      "P23 N3\n",
      "Extracting EDF parameters from /home/melissa/PREPROCESSING/SYNGAP1/SYNGAP1_Human_Data/P23 N3_(1).edf...\n",
      "EDF file detected\n",
      "Setting channel info structure...\n",
      "Creating raw.info structure...\n",
      "Reading 0 ... 4792063  =      0.000 ... 18718.996 secs...\n"
     ]
    },
    {
     "name": "stderr",
     "output_type": "stream",
     "text": [
      "/home/melissa/PROJECT_DIRECTORIES/EEGFeatureExtraction/Scripts/Human/preprocess_human.py:14: RuntimeWarning: Number of records from the header does not match the file size (perhaps the recording was not stopped before exiting). Inferring from the file size.\n",
      "  raw_edf = mne.io.read_raw_edf(str(file_name),\n"
     ]
    },
    {
     "name": "stdout",
     "output_type": "stream",
     "text": [
      "Filtering raw data in 1 contiguous segment\n",
      "Setting up band-pass filter from 0.3 - 35 Hz\n",
      "\n",
      "FIR filter parameters\n",
      "---------------------\n",
      "Designing a one-pass, zero-phase, non-causal bandpass filter:\n",
      "- Windowed time-domain design (firwin) method\n",
      "- Hamming window with 0.0194 passband ripple and 53 dB stopband attenuation\n",
      "- Lower passband edge: 0.30\n",
      "- Lower transition bandwidth: 0.30 Hz (-6 dB cutoff frequency: 0.15 Hz)\n",
      "- Upper passband edge: 35.00 Hz\n",
      "- Upper transition bandwidth: 8.75 Hz (-6 dB cutoff frequency: 39.38 Hz)\n",
      "- Filter length: 2817 samples (11.004 sec)\n",
      "\n"
     ]
    },
    {
     "name": "stderr",
     "output_type": "stream",
     "text": [
      "[Parallel(n_jobs=1)]: Using backend SequentialBackend with 1 concurrent workers.\n",
      "[Parallel(n_jobs=1)]: Done   1 out of   1 | elapsed:    0.1s remaining:    0.0s\n",
      "[Parallel(n_jobs=1)]: Done   2 out of   2 | elapsed:    0.2s remaining:    0.0s\n",
      "[Parallel(n_jobs=1)]: Done   3 out of   3 | elapsed:    0.3s remaining:    0.0s\n",
      "[Parallel(n_jobs=1)]: Done   4 out of   4 | elapsed:    0.5s remaining:    0.0s\n",
      "[Parallel(n_jobs=1)]: Done   6 out of   6 | elapsed:    0.7s finished\n"
     ]
    },
    {
     "name": "stdout",
     "output_type": "stream",
     "text": [
      "All channels calculated\n",
      "P24 N1\n",
      "Extracting EDF parameters from /home/melissa/PREPROCESSING/SYNGAP1/SYNGAP1_Human_Data/P24 N1_(1).edf...\n",
      "EDF file detected\n",
      "Setting channel info structure...\n",
      "Creating raw.info structure...\n",
      "Reading 0 ... 4389887  =      0.000 ... 17147.996 secs...\n"
     ]
    },
    {
     "name": "stderr",
     "output_type": "stream",
     "text": [
      "/home/melissa/PROJECT_DIRECTORIES/EEGFeatureExtraction/Scripts/Human/preprocess_human.py:14: RuntimeWarning: Number of records from the header does not match the file size (perhaps the recording was not stopped before exiting). Inferring from the file size.\n",
      "  raw_edf = mne.io.read_raw_edf(str(file_name),\n"
     ]
    },
    {
     "name": "stdout",
     "output_type": "stream",
     "text": [
      "Filtering raw data in 1 contiguous segment\n",
      "Setting up band-pass filter from 0.3 - 35 Hz\n",
      "\n",
      "FIR filter parameters\n",
      "---------------------\n",
      "Designing a one-pass, zero-phase, non-causal bandpass filter:\n",
      "- Windowed time-domain design (firwin) method\n",
      "- Hamming window with 0.0194 passband ripple and 53 dB stopband attenuation\n",
      "- Lower passband edge: 0.30\n",
      "- Lower transition bandwidth: 0.30 Hz (-6 dB cutoff frequency: 0.15 Hz)\n",
      "- Upper passband edge: 35.00 Hz\n",
      "- Upper transition bandwidth: 8.75 Hz (-6 dB cutoff frequency: 39.38 Hz)\n",
      "- Filter length: 2817 samples (11.004 sec)\n",
      "\n"
     ]
    },
    {
     "name": "stderr",
     "output_type": "stream",
     "text": [
      "[Parallel(n_jobs=1)]: Using backend SequentialBackend with 1 concurrent workers.\n",
      "[Parallel(n_jobs=1)]: Done   1 out of   1 | elapsed:    0.1s remaining:    0.0s\n",
      "[Parallel(n_jobs=1)]: Done   2 out of   2 | elapsed:    0.2s remaining:    0.0s\n",
      "[Parallel(n_jobs=1)]: Done   3 out of   3 | elapsed:    0.3s remaining:    0.0s\n",
      "[Parallel(n_jobs=1)]: Done   4 out of   4 | elapsed:    0.4s remaining:    0.0s\n",
      "[Parallel(n_jobs=1)]: Done   6 out of   6 | elapsed:    0.6s finished\n"
     ]
    },
    {
     "name": "stdout",
     "output_type": "stream",
     "text": [
      "All channels calculated\n",
      "P27 N1\n",
      "Extracting EDF parameters from /home/melissa/PREPROCESSING/SYNGAP1/SYNGAP1_Human_Data/P27 N1_(1).edf...\n",
      "EDF file detected\n",
      "Setting channel info structure...\n",
      "Creating raw.info structure...\n",
      "Reading 0 ... 3652607  =      0.000 ... 14267.996 secs...\n"
     ]
    },
    {
     "name": "stderr",
     "output_type": "stream",
     "text": [
      "/home/melissa/PROJECT_DIRECTORIES/EEGFeatureExtraction/Scripts/Human/preprocess_human.py:14: RuntimeWarning: Number of records from the header does not match the file size (perhaps the recording was not stopped before exiting). Inferring from the file size.\n",
      "  raw_edf = mne.io.read_raw_edf(str(file_name),\n"
     ]
    },
    {
     "name": "stdout",
     "output_type": "stream",
     "text": [
      "Filtering raw data in 1 contiguous segment\n",
      "Setting up band-pass filter from 0.3 - 35 Hz\n",
      "\n",
      "FIR filter parameters\n",
      "---------------------\n",
      "Designing a one-pass, zero-phase, non-causal bandpass filter:\n",
      "- Windowed time-domain design (firwin) method\n",
      "- Hamming window with 0.0194 passband ripple and 53 dB stopband attenuation\n",
      "- Lower passband edge: 0.30\n",
      "- Lower transition bandwidth: 0.30 Hz (-6 dB cutoff frequency: 0.15 Hz)\n",
      "- Upper passband edge: 35.00 Hz\n",
      "- Upper transition bandwidth: 8.75 Hz (-6 dB cutoff frequency: 39.38 Hz)\n",
      "- Filter length: 2817 samples (11.004 sec)\n",
      "\n"
     ]
    },
    {
     "name": "stderr",
     "output_type": "stream",
     "text": [
      "[Parallel(n_jobs=1)]: Using backend SequentialBackend with 1 concurrent workers.\n",
      "[Parallel(n_jobs=1)]: Done   1 out of   1 | elapsed:    0.1s remaining:    0.0s\n",
      "[Parallel(n_jobs=1)]: Done   2 out of   2 | elapsed:    0.2s remaining:    0.0s\n",
      "[Parallel(n_jobs=1)]: Done   3 out of   3 | elapsed:    0.3s remaining:    0.0s\n",
      "[Parallel(n_jobs=1)]: Done   4 out of   4 | elapsed:    0.3s remaining:    0.0s\n",
      "[Parallel(n_jobs=1)]: Done   6 out of   6 | elapsed:    0.5s finished\n"
     ]
    },
    {
     "name": "stdout",
     "output_type": "stream",
     "text": [
      "All channels calculated\n",
      "P28 N1\n",
      "Extracting EDF parameters from /home/melissa/PREPROCESSING/SYNGAP1/SYNGAP1_Human_Data/P28 N1_(1).edf...\n",
      "EDF file detected\n",
      "Setting channel info structure...\n",
      "Creating raw.info structure...\n",
      "Reading 0 ... 3283967  =      0.000 ... 12827.996 secs...\n"
     ]
    },
    {
     "name": "stderr",
     "output_type": "stream",
     "text": [
      "/home/melissa/PROJECT_DIRECTORIES/EEGFeatureExtraction/Scripts/Human/preprocess_human.py:14: RuntimeWarning: Number of records from the header does not match the file size (perhaps the recording was not stopped before exiting). Inferring from the file size.\n",
      "  raw_edf = mne.io.read_raw_edf(str(file_name),\n"
     ]
    },
    {
     "name": "stdout",
     "output_type": "stream",
     "text": [
      "Filtering raw data in 1 contiguous segment\n",
      "Setting up band-pass filter from 0.3 - 35 Hz\n",
      "\n",
      "FIR filter parameters\n",
      "---------------------\n",
      "Designing a one-pass, zero-phase, non-causal bandpass filter:\n",
      "- Windowed time-domain design (firwin) method\n",
      "- Hamming window with 0.0194 passband ripple and 53 dB stopband attenuation\n",
      "- Lower passband edge: 0.30\n",
      "- Lower transition bandwidth: 0.30 Hz (-6 dB cutoff frequency: 0.15 Hz)\n",
      "- Upper passband edge: 35.00 Hz\n",
      "- Upper transition bandwidth: 8.75 Hz (-6 dB cutoff frequency: 39.38 Hz)\n",
      "- Filter length: 2817 samples (11.004 sec)\n",
      "\n"
     ]
    },
    {
     "name": "stderr",
     "output_type": "stream",
     "text": [
      "[Parallel(n_jobs=1)]: Using backend SequentialBackend with 1 concurrent workers.\n",
      "[Parallel(n_jobs=1)]: Done   1 out of   1 | elapsed:    0.1s remaining:    0.0s\n",
      "[Parallel(n_jobs=1)]: Done   2 out of   2 | elapsed:    0.2s remaining:    0.0s\n",
      "[Parallel(n_jobs=1)]: Done   3 out of   3 | elapsed:    0.2s remaining:    0.0s\n",
      "[Parallel(n_jobs=1)]: Done   4 out of   4 | elapsed:    0.3s remaining:    0.0s\n",
      "[Parallel(n_jobs=1)]: Done   6 out of   6 | elapsed:    0.4s finished\n"
     ]
    },
    {
     "name": "stdout",
     "output_type": "stream",
     "text": [
      "All channels calculated\n",
      "P28 N2\n",
      "Extracting EDF parameters from /home/melissa/PREPROCESSING/SYNGAP1/SYNGAP1_Human_Data/P28 N2_(1).edf...\n",
      "EDF file detected\n",
      "Setting channel info structure...\n",
      "Creating raw.info structure...\n",
      "Reading 0 ... 3283967  =      0.000 ... 12827.996 secs...\n"
     ]
    },
    {
     "name": "stderr",
     "output_type": "stream",
     "text": [
      "/home/melissa/PROJECT_DIRECTORIES/EEGFeatureExtraction/Scripts/Human/preprocess_human.py:14: RuntimeWarning: Number of records from the header does not match the file size (perhaps the recording was not stopped before exiting). Inferring from the file size.\n",
      "  raw_edf = mne.io.read_raw_edf(str(file_name),\n"
     ]
    },
    {
     "name": "stdout",
     "output_type": "stream",
     "text": [
      "Filtering raw data in 1 contiguous segment\n",
      "Setting up band-pass filter from 0.3 - 35 Hz\n",
      "\n",
      "FIR filter parameters\n",
      "---------------------\n",
      "Designing a one-pass, zero-phase, non-causal bandpass filter:\n",
      "- Windowed time-domain design (firwin) method\n",
      "- Hamming window with 0.0194 passband ripple and 53 dB stopband attenuation\n",
      "- Lower passband edge: 0.30\n",
      "- Lower transition bandwidth: 0.30 Hz (-6 dB cutoff frequency: 0.15 Hz)\n",
      "- Upper passband edge: 35.00 Hz\n",
      "- Upper transition bandwidth: 8.75 Hz (-6 dB cutoff frequency: 39.38 Hz)\n",
      "- Filter length: 2817 samples (11.004 sec)\n",
      "\n"
     ]
    },
    {
     "name": "stderr",
     "output_type": "stream",
     "text": [
      "[Parallel(n_jobs=1)]: Using backend SequentialBackend with 1 concurrent workers.\n",
      "[Parallel(n_jobs=1)]: Done   1 out of   1 | elapsed:    0.1s remaining:    0.0s\n",
      "[Parallel(n_jobs=1)]: Done   2 out of   2 | elapsed:    0.2s remaining:    0.0s\n",
      "[Parallel(n_jobs=1)]: Done   3 out of   3 | elapsed:    0.2s remaining:    0.0s\n",
      "[Parallel(n_jobs=1)]: Done   4 out of   4 | elapsed:    0.3s remaining:    0.0s\n",
      "[Parallel(n_jobs=1)]: Done   6 out of   6 | elapsed:    0.4s finished\n"
     ]
    },
    {
     "name": "stdout",
     "output_type": "stream",
     "text": [
      "All channels calculated\n",
      "P29 N2\n",
      "Extracting EDF parameters from /home/melissa/PREPROCESSING/SYNGAP1/SYNGAP1_Human_Data/P29 N2_(1).edf...\n",
      "EDF file detected\n",
      "Setting channel info structure...\n",
      "Creating raw.info structure...\n",
      "Reading 0 ... 3082751  =      0.000 ... 12041.996 secs...\n"
     ]
    },
    {
     "name": "stderr",
     "output_type": "stream",
     "text": [
      "/home/melissa/PROJECT_DIRECTORIES/EEGFeatureExtraction/Scripts/Human/preprocess_human.py:14: RuntimeWarning: Number of records from the header does not match the file size (perhaps the recording was not stopped before exiting). Inferring from the file size.\n",
      "  raw_edf = mne.io.read_raw_edf(str(file_name),\n"
     ]
    },
    {
     "name": "stdout",
     "output_type": "stream",
     "text": [
      "Filtering raw data in 1 contiguous segment\n",
      "Setting up band-pass filter from 0.3 - 35 Hz\n",
      "\n",
      "FIR filter parameters\n",
      "---------------------\n",
      "Designing a one-pass, zero-phase, non-causal bandpass filter:\n",
      "- Windowed time-domain design (firwin) method\n",
      "- Hamming window with 0.0194 passband ripple and 53 dB stopband attenuation\n",
      "- Lower passband edge: 0.30\n",
      "- Lower transition bandwidth: 0.30 Hz (-6 dB cutoff frequency: 0.15 Hz)\n",
      "- Upper passband edge: 35.00 Hz\n",
      "- Upper transition bandwidth: 8.75 Hz (-6 dB cutoff frequency: 39.38 Hz)\n",
      "- Filter length: 2817 samples (11.004 sec)\n",
      "\n"
     ]
    },
    {
     "name": "stderr",
     "output_type": "stream",
     "text": [
      "[Parallel(n_jobs=1)]: Using backend SequentialBackend with 1 concurrent workers.\n",
      "[Parallel(n_jobs=1)]: Done   1 out of   1 | elapsed:    0.1s remaining:    0.0s\n",
      "[Parallel(n_jobs=1)]: Done   2 out of   2 | elapsed:    0.1s remaining:    0.0s\n",
      "[Parallel(n_jobs=1)]: Done   3 out of   3 | elapsed:    0.2s remaining:    0.0s\n",
      "[Parallel(n_jobs=1)]: Done   4 out of   4 | elapsed:    0.3s remaining:    0.0s\n",
      "[Parallel(n_jobs=1)]: Done   6 out of   6 | elapsed:    0.4s finished\n"
     ]
    },
    {
     "name": "stdout",
     "output_type": "stream",
     "text": [
      "All channels calculated\n",
      "P30 N1\n",
      "Extracting EDF parameters from /home/melissa/PREPROCESSING/SYNGAP1/SYNGAP1_Human_Data/P30 N1_(1).edf...\n",
      "EDF file detected\n",
      "Setting channel info structure...\n",
      "Creating raw.info structure...\n",
      "Reading 0 ... 2982399  =      0.000 ... 11649.996 secs...\n"
     ]
    },
    {
     "name": "stderr",
     "output_type": "stream",
     "text": [
      "/home/melissa/PROJECT_DIRECTORIES/EEGFeatureExtraction/Scripts/Human/preprocess_human.py:14: RuntimeWarning: Number of records from the header does not match the file size (perhaps the recording was not stopped before exiting). Inferring from the file size.\n",
      "  raw_edf = mne.io.read_raw_edf(str(file_name),\n"
     ]
    },
    {
     "name": "stdout",
     "output_type": "stream",
     "text": [
      "Filtering raw data in 1 contiguous segment\n",
      "Setting up band-pass filter from 0.3 - 35 Hz\n",
      "\n",
      "FIR filter parameters\n",
      "---------------------\n",
      "Designing a one-pass, zero-phase, non-causal bandpass filter:\n",
      "- Windowed time-domain design (firwin) method\n",
      "- Hamming window with 0.0194 passband ripple and 53 dB stopband attenuation\n",
      "- Lower passband edge: 0.30\n",
      "- Lower transition bandwidth: 0.30 Hz (-6 dB cutoff frequency: 0.15 Hz)\n",
      "- Upper passband edge: 35.00 Hz\n",
      "- Upper transition bandwidth: 8.75 Hz (-6 dB cutoff frequency: 39.38 Hz)\n",
      "- Filter length: 2817 samples (11.004 sec)\n",
      "\n"
     ]
    },
    {
     "name": "stderr",
     "output_type": "stream",
     "text": [
      "[Parallel(n_jobs=1)]: Using backend SequentialBackend with 1 concurrent workers.\n",
      "[Parallel(n_jobs=1)]: Done   1 out of   1 | elapsed:    0.1s remaining:    0.0s\n",
      "[Parallel(n_jobs=1)]: Done   2 out of   2 | elapsed:    0.1s remaining:    0.0s\n",
      "[Parallel(n_jobs=1)]: Done   3 out of   3 | elapsed:    0.2s remaining:    0.0s\n",
      "[Parallel(n_jobs=1)]: Done   4 out of   4 | elapsed:    0.3s remaining:    0.0s\n",
      "[Parallel(n_jobs=1)]: Done   6 out of   6 | elapsed:    0.4s finished\n"
     ]
    },
    {
     "name": "stdout",
     "output_type": "stream",
     "text": [
      "All channels calculated\n",
      "P1 N1\n",
      "Extracting EDF parameters from /home/melissa/PREPROCESSING/SYNGAP1/SYNGAP1_Human_Data/P1 N1_(1).edf...\n",
      "EDF file detected\n",
      "Setting channel info structure...\n",
      "Creating raw.info structure...\n",
      "Reading 0 ... 12901887  =      0.000 ... 50397.996 secs...\n",
      "Filtering raw data in 1 contiguous segment\n",
      "Setting up band-pass filter from 0.3 - 35 Hz\n",
      "\n",
      "FIR filter parameters\n",
      "---------------------\n",
      "Designing a one-pass, zero-phase, non-causal bandpass filter:\n",
      "- Windowed time-domain design (firwin) method\n",
      "- Hamming window with 0.0194 passband ripple and 53 dB stopband attenuation\n",
      "- Lower passband edge: 0.30\n",
      "- Lower transition bandwidth: 0.30 Hz (-6 dB cutoff frequency: 0.15 Hz)\n",
      "- Upper passband edge: 35.00 Hz\n",
      "- Upper transition bandwidth: 8.75 Hz (-6 dB cutoff frequency: 39.38 Hz)\n",
      "- Filter length: 2817 samples (11.004 sec)\n",
      "\n"
     ]
    },
    {
     "name": "stderr",
     "output_type": "stream",
     "text": [
      "[Parallel(n_jobs=1)]: Using backend SequentialBackend with 1 concurrent workers.\n",
      "[Parallel(n_jobs=1)]: Done   1 out of   1 | elapsed:    0.3s remaining:    0.0s\n",
      "[Parallel(n_jobs=1)]: Done   2 out of   2 | elapsed:    0.6s remaining:    0.0s\n",
      "[Parallel(n_jobs=1)]: Done   3 out of   3 | elapsed:    0.9s remaining:    0.0s\n",
      "[Parallel(n_jobs=1)]: Done   4 out of   4 | elapsed:    1.2s remaining:    0.0s\n",
      "[Parallel(n_jobs=1)]: Done   6 out of   6 | elapsed:    1.8s finished\n"
     ]
    },
    {
     "name": "stdout",
     "output_type": "stream",
     "text": [
      "All channels calculated\n",
      "P2 N1\n",
      "Extracting EDF parameters from /home/melissa/PREPROCESSING/SYNGAP1/SYNGAP1_Human_Data/P2 N1_(1).edf...\n",
      "EDF file detected\n",
      "Setting channel info structure...\n",
      "Creating raw.info structure...\n",
      "Reading 0 ... 12901887  =      0.000 ... 50397.996 secs...\n",
      "Filtering raw data in 1 contiguous segment\n",
      "Setting up band-pass filter from 0.3 - 35 Hz\n",
      "\n",
      "FIR filter parameters\n",
      "---------------------\n",
      "Designing a one-pass, zero-phase, non-causal bandpass filter:\n",
      "- Windowed time-domain design (firwin) method\n",
      "- Hamming window with 0.0194 passband ripple and 53 dB stopband attenuation\n",
      "- Lower passband edge: 0.30\n",
      "- Lower transition bandwidth: 0.30 Hz (-6 dB cutoff frequency: 0.15 Hz)\n",
      "- Upper passband edge: 35.00 Hz\n",
      "- Upper transition bandwidth: 8.75 Hz (-6 dB cutoff frequency: 39.38 Hz)\n",
      "- Filter length: 2817 samples (11.004 sec)\n",
      "\n"
     ]
    },
    {
     "name": "stderr",
     "output_type": "stream",
     "text": [
      "[Parallel(n_jobs=1)]: Using backend SequentialBackend with 1 concurrent workers.\n",
      "[Parallel(n_jobs=1)]: Done   1 out of   1 | elapsed:    0.3s remaining:    0.0s\n",
      "[Parallel(n_jobs=1)]: Done   2 out of   2 | elapsed:    0.6s remaining:    0.0s\n",
      "[Parallel(n_jobs=1)]: Done   3 out of   3 | elapsed:    0.9s remaining:    0.0s\n",
      "[Parallel(n_jobs=1)]: Done   4 out of   4 | elapsed:    1.2s remaining:    0.0s\n",
      "[Parallel(n_jobs=1)]: Done   6 out of   6 | elapsed:    1.8s finished\n"
     ]
    },
    {
     "name": "stdout",
     "output_type": "stream",
     "text": [
      "All channels calculated\n",
      "P2 N2\n",
      "Extracting EDF parameters from /home/melissa/PREPROCESSING/SYNGAP1/SYNGAP1_Human_Data/P2 N2_(1).edf...\n",
      "EDF file detected\n",
      "Setting channel info structure...\n",
      "Creating raw.info structure...\n",
      "Reading 0 ... 12901887  =      0.000 ... 50397.996 secs...\n",
      "Filtering raw data in 1 contiguous segment\n",
      "Setting up band-pass filter from 0.3 - 35 Hz\n",
      "\n",
      "FIR filter parameters\n",
      "---------------------\n",
      "Designing a one-pass, zero-phase, non-causal bandpass filter:\n",
      "- Windowed time-domain design (firwin) method\n",
      "- Hamming window with 0.0194 passband ripple and 53 dB stopband attenuation\n",
      "- Lower passband edge: 0.30\n",
      "- Lower transition bandwidth: 0.30 Hz (-6 dB cutoff frequency: 0.15 Hz)\n",
      "- Upper passband edge: 35.00 Hz\n",
      "- Upper transition bandwidth: 8.75 Hz (-6 dB cutoff frequency: 39.38 Hz)\n",
      "- Filter length: 2817 samples (11.004 sec)\n",
      "\n"
     ]
    },
    {
     "name": "stderr",
     "output_type": "stream",
     "text": [
      "[Parallel(n_jobs=1)]: Using backend SequentialBackend with 1 concurrent workers.\n",
      "[Parallel(n_jobs=1)]: Done   1 out of   1 | elapsed:    0.3s remaining:    0.0s\n",
      "[Parallel(n_jobs=1)]: Done   2 out of   2 | elapsed:    0.6s remaining:    0.0s\n",
      "[Parallel(n_jobs=1)]: Done   3 out of   3 | elapsed:    0.9s remaining:    0.0s\n",
      "[Parallel(n_jobs=1)]: Done   4 out of   4 | elapsed:    1.2s remaining:    0.0s\n",
      "[Parallel(n_jobs=1)]: Done   6 out of   6 | elapsed:    1.8s finished\n"
     ]
    },
    {
     "name": "stdout",
     "output_type": "stream",
     "text": [
      "All channels calculated\n",
      "P3 N1\n",
      "Extracting EDF parameters from /home/melissa/PREPROCESSING/SYNGAP1/SYNGAP1_Human_Data/P3 N1_(1).edf...\n",
      "EDF file detected\n",
      "Setting channel info structure...\n",
      "Creating raw.info structure...\n",
      "Reading 0 ... 11980287  =      0.000 ... 46797.996 secs...\n",
      "Filtering raw data in 1 contiguous segment\n",
      "Setting up band-pass filter from 0.3 - 35 Hz\n",
      "\n",
      "FIR filter parameters\n",
      "---------------------\n",
      "Designing a one-pass, zero-phase, non-causal bandpass filter:\n",
      "- Windowed time-domain design (firwin) method\n",
      "- Hamming window with 0.0194 passband ripple and 53 dB stopband attenuation\n",
      "- Lower passband edge: 0.30\n",
      "- Lower transition bandwidth: 0.30 Hz (-6 dB cutoff frequency: 0.15 Hz)\n",
      "- Upper passband edge: 35.00 Hz\n",
      "- Upper transition bandwidth: 8.75 Hz (-6 dB cutoff frequency: 39.38 Hz)\n",
      "- Filter length: 2817 samples (11.004 sec)\n",
      "\n"
     ]
    },
    {
     "name": "stderr",
     "output_type": "stream",
     "text": [
      "[Parallel(n_jobs=1)]: Using backend SequentialBackend with 1 concurrent workers.\n",
      "[Parallel(n_jobs=1)]: Done   1 out of   1 | elapsed:    0.3s remaining:    0.0s\n",
      "[Parallel(n_jobs=1)]: Done   2 out of   2 | elapsed:    0.5s remaining:    0.0s\n",
      "[Parallel(n_jobs=1)]: Done   3 out of   3 | elapsed:    0.8s remaining:    0.0s\n",
      "[Parallel(n_jobs=1)]: Done   4 out of   4 | elapsed:    1.1s remaining:    0.0s\n",
      "[Parallel(n_jobs=1)]: Done   6 out of   6 | elapsed:    1.6s finished\n"
     ]
    },
    {
     "name": "stdout",
     "output_type": "stream",
     "text": [
      "All channels calculated\n",
      "P3 N2\n",
      "Extracting EDF parameters from /home/melissa/PREPROCESSING/SYNGAP1/SYNGAP1_Human_Data/P3 N2_(1).edf...\n",
      "EDF file detected\n",
      "Setting channel info structure...\n",
      "Creating raw.info structure...\n",
      "Reading 0 ... 11980287  =      0.000 ... 46797.996 secs...\n",
      "Filtering raw data in 1 contiguous segment\n",
      "Setting up band-pass filter from 0.3 - 35 Hz\n",
      "\n",
      "FIR filter parameters\n",
      "---------------------\n",
      "Designing a one-pass, zero-phase, non-causal bandpass filter:\n",
      "- Windowed time-domain design (firwin) method\n",
      "- Hamming window with 0.0194 passband ripple and 53 dB stopband attenuation\n",
      "- Lower passband edge: 0.30\n",
      "- Lower transition bandwidth: 0.30 Hz (-6 dB cutoff frequency: 0.15 Hz)\n",
      "- Upper passband edge: 35.00 Hz\n",
      "- Upper transition bandwidth: 8.75 Hz (-6 dB cutoff frequency: 39.38 Hz)\n",
      "- Filter length: 2817 samples (11.004 sec)\n",
      "\n"
     ]
    },
    {
     "name": "stderr",
     "output_type": "stream",
     "text": [
      "[Parallel(n_jobs=1)]: Using backend SequentialBackend with 1 concurrent workers.\n",
      "[Parallel(n_jobs=1)]: Done   1 out of   1 | elapsed:    0.3s remaining:    0.0s\n",
      "[Parallel(n_jobs=1)]: Done   2 out of   2 | elapsed:    0.5s remaining:    0.0s\n",
      "[Parallel(n_jobs=1)]: Done   3 out of   3 | elapsed:    0.8s remaining:    0.0s\n",
      "[Parallel(n_jobs=1)]: Done   4 out of   4 | elapsed:    1.1s remaining:    0.0s\n",
      "[Parallel(n_jobs=1)]: Done   6 out of   6 | elapsed:    1.6s finished\n"
     ]
    },
    {
     "name": "stdout",
     "output_type": "stream",
     "text": [
      "All channels calculated\n",
      "P4 N1\n",
      "Extracting EDF parameters from /home/melissa/PREPROCESSING/SYNGAP1/SYNGAP1_Human_Data/P4 N1_(1).edf...\n",
      "EDF file detected\n",
      "Setting channel info structure...\n",
      "Creating raw.info structure...\n",
      "Reading 0 ... 10589695  =      0.000 ... 41365.996 secs...\n",
      "Filtering raw data in 1 contiguous segment\n",
      "Setting up band-pass filter from 0.3 - 35 Hz\n",
      "\n",
      "FIR filter parameters\n",
      "---------------------\n",
      "Designing a one-pass, zero-phase, non-causal bandpass filter:\n",
      "- Windowed time-domain design (firwin) method\n",
      "- Hamming window with 0.0194 passband ripple and 53 dB stopband attenuation\n",
      "- Lower passband edge: 0.30\n",
      "- Lower transition bandwidth: 0.30 Hz (-6 dB cutoff frequency: 0.15 Hz)\n",
      "- Upper passband edge: 35.00 Hz\n",
      "- Upper transition bandwidth: 8.75 Hz (-6 dB cutoff frequency: 39.38 Hz)\n",
      "- Filter length: 2817 samples (11.004 sec)\n",
      "\n"
     ]
    },
    {
     "name": "stderr",
     "output_type": "stream",
     "text": [
      "[Parallel(n_jobs=1)]: Using backend SequentialBackend with 1 concurrent workers.\n",
      "[Parallel(n_jobs=1)]: Done   1 out of   1 | elapsed:    0.2s remaining:    0.0s\n",
      "[Parallel(n_jobs=1)]: Done   2 out of   2 | elapsed:    0.5s remaining:    0.0s\n",
      "[Parallel(n_jobs=1)]: Done   3 out of   3 | elapsed:    0.7s remaining:    0.0s\n",
      "[Parallel(n_jobs=1)]: Done   4 out of   4 | elapsed:    1.0s remaining:    0.0s\n",
      "[Parallel(n_jobs=1)]: Done   6 out of   6 | elapsed:    1.5s finished\n"
     ]
    },
    {
     "name": "stdout",
     "output_type": "stream",
     "text": [
      "All channels calculated\n",
      "P4 N2\n",
      "Extracting EDF parameters from /home/melissa/PREPROCESSING/SYNGAP1/SYNGAP1_Human_Data/P4 N2_(1).edf...\n",
      "EDF file detected\n",
      "Setting channel info structure...\n",
      "Creating raw.info structure...\n",
      "Reading 0 ... 10629119  =      0.000 ... 41519.996 secs...\n",
      "Filtering raw data in 1 contiguous segment\n",
      "Setting up band-pass filter from 0.3 - 35 Hz\n",
      "\n",
      "FIR filter parameters\n",
      "---------------------\n",
      "Designing a one-pass, zero-phase, non-causal bandpass filter:\n",
      "- Windowed time-domain design (firwin) method\n",
      "- Hamming window with 0.0194 passband ripple and 53 dB stopband attenuation\n",
      "- Lower passband edge: 0.30\n",
      "- Lower transition bandwidth: 0.30 Hz (-6 dB cutoff frequency: 0.15 Hz)\n",
      "- Upper passband edge: 35.00 Hz\n",
      "- Upper transition bandwidth: 8.75 Hz (-6 dB cutoff frequency: 39.38 Hz)\n",
      "- Filter length: 2817 samples (11.004 sec)\n",
      "\n"
     ]
    },
    {
     "name": "stderr",
     "output_type": "stream",
     "text": [
      "[Parallel(n_jobs=1)]: Using backend SequentialBackend with 1 concurrent workers.\n",
      "[Parallel(n_jobs=1)]: Done   1 out of   1 | elapsed:    0.2s remaining:    0.0s\n",
      "[Parallel(n_jobs=1)]: Done   2 out of   2 | elapsed:    0.5s remaining:    0.0s\n",
      "[Parallel(n_jobs=1)]: Done   3 out of   3 | elapsed:    0.7s remaining:    0.0s\n",
      "[Parallel(n_jobs=1)]: Done   4 out of   4 | elapsed:    1.0s remaining:    0.0s\n",
      "[Parallel(n_jobs=1)]: Done   6 out of   6 | elapsed:    1.5s finished\n"
     ]
    },
    {
     "name": "stdout",
     "output_type": "stream",
     "text": [
      "All channels calculated\n",
      "P5 N1\n",
      "Extracting EDF parameters from /home/melissa/PREPROCESSING/SYNGAP1/SYNGAP1_Human_Data/P5 N1_(1).edf...\n",
      "EDF file detected\n",
      "Setting channel info structure...\n",
      "Creating raw.info structure...\n",
      "Reading 0 ... 12901887  =      0.000 ... 50397.996 secs...\n",
      "Filtering raw data in 1 contiguous segment\n",
      "Setting up band-pass filter from 0.3 - 35 Hz\n",
      "\n",
      "FIR filter parameters\n",
      "---------------------\n",
      "Designing a one-pass, zero-phase, non-causal bandpass filter:\n",
      "- Windowed time-domain design (firwin) method\n",
      "- Hamming window with 0.0194 passband ripple and 53 dB stopband attenuation\n",
      "- Lower passband edge: 0.30\n",
      "- Lower transition bandwidth: 0.30 Hz (-6 dB cutoff frequency: 0.15 Hz)\n",
      "- Upper passband edge: 35.00 Hz\n",
      "- Upper transition bandwidth: 8.75 Hz (-6 dB cutoff frequency: 39.38 Hz)\n",
      "- Filter length: 2817 samples (11.004 sec)\n",
      "\n"
     ]
    },
    {
     "name": "stderr",
     "output_type": "stream",
     "text": [
      "[Parallel(n_jobs=1)]: Using backend SequentialBackend with 1 concurrent workers.\n",
      "[Parallel(n_jobs=1)]: Done   1 out of   1 | elapsed:    0.3s remaining:    0.0s\n",
      "[Parallel(n_jobs=1)]: Done   2 out of   2 | elapsed:    0.6s remaining:    0.0s\n",
      "[Parallel(n_jobs=1)]: Done   3 out of   3 | elapsed:    0.9s remaining:    0.0s\n",
      "[Parallel(n_jobs=1)]: Done   4 out of   4 | elapsed:    1.2s remaining:    0.0s\n",
      "[Parallel(n_jobs=1)]: Done   6 out of   6 | elapsed:    1.8s finished\n"
     ]
    },
    {
     "name": "stdout",
     "output_type": "stream",
     "text": [
      "All channels calculated\n"
     ]
    }
   ],
   "source": [
    "for patient in patient_list:\n",
    "    print(patient)\n",
    "    file_name = patient + '_(1).edf'\n",
    "    filtered_data = load_filtered_data(file_path = human_data_folder, file_name = file_name)\n",
    "    number_epochs, epochs = split_into_epochs(filtered_data, sampling_rate = 256, num_seconds = 30)\n",
    "    epoch_array = np.array(epochs)\n",
    "    \n",
    "    #load mne features\n",
    "    patient_mne = pd.read_csv(mne_directory + patient + '_all_conn_measures.csv')\n",
    "    mne_indices = patient_mne['Idx'].to_list()\n",
    "    \n",
    "    # Calculate DispEn for each channel\n",
    "    channels = ['E1', 'E2', 'F3', 'C3', 'O1', 'M2']\n",
    " \n",
    "    calculate_dispen(data_input = epochs, patient_id = patient,\n",
    "                         channel_list = channels,\n",
    "                         clean_indices = mne_indices,\n",
    "                         results_path = results_path)\n",
    "    \n",
    "    print('All channels calculated')\n"
   ]
  },
  {
   "cell_type": "code",
   "execution_count": 52,
   "id": "156b30a7",
   "metadata": {},
   "outputs": [
    {
     "data": {
      "text/plain": [
       "(7680,)"
      ]
     },
     "execution_count": 52,
     "metadata": {},
     "output_type": "execute_result"
    }
   ],
   "source": [
    "epochs[0][1, :].shape"
   ]
  }
 ],
 "metadata": {
  "kernelspec": {
   "display_name": "env2023",
   "language": "python",
   "name": "env2023"
  },
  "language_info": {
   "codemirror_mode": {
    "name": "ipython",
    "version": 3
   },
   "file_extension": ".py",
   "mimetype": "text/x-python",
   "name": "python",
   "nbconvert_exporter": "python",
   "pygments_lexer": "ipython3",
   "version": "3.8.17"
  }
 },
 "nbformat": 4,
 "nbformat_minor": 5
}
